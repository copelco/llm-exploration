{
 "cells": [
  {
   "cell_type": "markdown",
   "id": "a06ad074-6fc8-4cef-b538-62683091702f",
   "metadata": {},
   "source": [
    "# OpenAI and Local LLM Exploration\n",
    "Last updated: March 13, 2024"
   ]
  },
  {
   "cell_type": "markdown",
   "id": "9318585c-15bb-4389-8abd-63b7014bafbf",
   "metadata": {},
   "source": [
    "## `llm` Python package\n",
    "\n",
    "First we'll use Simon Willison's open-source `llm` Python package to interface with various LLM models, following the [My LLM CLI tool now supports self-hosted language models via plugins](https://simonwillison.net/2023/Jul/12/llm/) post and a [GPT4All model](https://gpt4all.io/index.html):\n",
    "\n",
    "```shell\n",
    "# prerequisite: git-lfs for cloning Git repos with large files/models\n",
    "$ brew install git-lfs\n",
    "# install llm package and gpt4all plugin\n",
    "$ pip install llm\n",
    "$ llm install llm-gpt4all\n",
    "```"
   ]
  },
  {
   "cell_type": "markdown",
   "id": "e5ad4af0-757b-4d1a-965b-9cd951607c9e",
   "metadata": {},
   "source": [
    "### CLI"
   ]
  },
  {
   "cell_type": "code",
   "execution_count": 1,
   "id": "3d82560f-c738-4c13-a95e-ac16c1e1fb4f",
   "metadata": {},
   "outputs": [
    {
     "name": "stdout",
     "output_type": "stream",
     "text": [
      "OpenAI Chat: gpt-3.5-turbo (aliases: 3.5, chatgpt)\n",
      "OpenAI Chat: gpt-3.5-turbo-16k (aliases: chatgpt-16k, 3.5-16k)\n",
      "OpenAI Chat: gpt-4 (aliases: 4, gpt4)\n",
      "OpenAI Chat: gpt-4-32k (aliases: 4-32k)\n",
      "OpenAI Chat: gpt-4-1106-preview\n",
      "OpenAI Chat: gpt-4-0125-preview\n",
      "OpenAI Chat: gpt-4-turbo-preview (aliases: gpt-4-turbo, 4-turbo, 4t)\n",
      "OpenAI Completion: gpt-3.5-turbo-instruct (aliases: 3.5-instruct, chatgpt-instruct)\n",
      "gpt4all: all-MiniLM-L6-v2-f16 - SBert, 43.76MB download, needs 1GB RAM (installed)\n",
      "gpt4all: gpt4all-falcon-newbpe-q4_0 - GPT4All Falcon, 3.92GB download, needs 8GB RAM (installed)\n",
      "gpt4all: replit-code-v1_5-3b-newbpe-q4_0 - Replit, 1.82GB download, needs 4GB RAM\n",
      "gpt4all: orca-mini-3b-gguf2-q4_0 - Mini Orca (Small), 1.84GB download, needs 4GB RAM\n",
      "gpt4all: orca-2-7b - Orca 2 (Medium), 3.56GB download, needs 8GB RAM\n",
      "gpt4all: rift-coder-v0-7b-q4_0 - Rift coder, 3.56GB download, needs 8GB RAM\n",
      "gpt4all: mpt-7b-chat-newbpe-q4_0 - MPT Chat, 3.64GB download, needs 8GB RAM\n",
      "gpt4all: em_german_mistral_v01 - EM German Mistral, 3.83GB download, needs 8GB RAM\n",
      "gpt4all: mistral-7b-instruct-v0 - Mistral Instruct, 3.83GB download, needs 8GB RAM\n",
      "gpt4all: mistral-7b-openorca - Mistral OpenOrca, 3.83GB download, needs 8GB RAM\n",
      "gpt4all: gpt4all-13b-snoozy-q4_0 - Snoozy, 6.86GB download, needs 16GB RAM\n",
      "gpt4all: wizardlm-13b-v1 - Wizard v1.2, 6.86GB download, needs 16GB RAM\n",
      "gpt4all: orca-2-13b - Orca 2 (Full), 6.86GB download, needs 16GB RAM\n",
      "gpt4all: nous-hermes-llama2-13b - Hermes, 6.86GB download, needs 16GB RAM\n",
      "gpt4all: starcoder-newbpe-q4_0 - Starcoder, 8.37GB download, needs 4GB RAM\n"
     ]
    }
   ],
   "source": [
    "! llm models\n",
    "\n",
    "# See available models"
   ]
  },
  {
   "cell_type": "code",
   "execution_count": 2,
   "id": "38310219-6865-4220-831d-32c2354fe477",
   "metadata": {},
   "outputs": [
    {
     "name": "stdout",
     "output_type": "stream",
     "text": [
      "The capital of North Carolina is Raleigh.\n",
      "CPU times: user 48.4 ms, sys: 29 ms, total: 77.4 ms\n",
      "Wall time: 14.4 s\n"
     ]
    }
   ],
   "source": [
    "%%time\n",
    "\n",
    "! llm -m gpt4all-falcon-newbpe-q4_0 \"The capital of North Carolina?\"\n",
    "\n",
    "# Test falcon-newbpe-q4_0 model with CLI tool"
   ]
  },
  {
   "cell_type": "code",
   "execution_count": 3,
   "id": "ea44a883-872e-4c7e-8338-4b7530862db7",
   "metadata": {},
   "outputs": [
    {
     "name": "stdout",
     "output_type": "stream",
     "text": [
      "Charlotte\n",
      "CPU times: user 12.6 ms, sys: 8.39 ms, total: 21 ms\n",
      "Wall time: 2.81 s\n"
     ]
    }
   ],
   "source": [
    "%%time\n",
    "\n",
    "! llm -m gpt4all-falcon-newbpe-q4_0 \"The capital of North Carolina? Answer in one word\"\n",
    "\n",
    "# Sometimes this gives Charlotte? 😮"
   ]
  },
  {
   "cell_type": "markdown",
   "id": "4439f7cc-b858-4a85-9083-cde11a47626c",
   "metadata": {},
   "source": [
    "### Python\n",
    "\n",
    "We can use the [Python API](https://llm.datasette.io/en/stable/python-api.html) too."
   ]
  },
  {
   "cell_type": "code",
   "execution_count": 4,
   "id": "8b6b84cd-3c51-4ef4-86ef-031ba7dcadba",
   "metadata": {},
   "outputs": [],
   "source": [
    "import os\n",
    "\n",
    "import llm\n",
    "import requests\n",
    "from strip_tags import strip_tags"
   ]
  },
  {
   "cell_type": "code",
   "execution_count": 5,
   "id": "765fb157-7d7c-45bc-968f-259738c9674a",
   "metadata": {},
   "outputs": [
    {
     "name": "stdout",
     "output_type": "stream",
     "text": [
      "CPU times: user 185 ms, sys: 434 ms, total: 618 ms\n",
      "Wall time: 1.3 s\n"
     ]
    },
    {
     "data": {
      "text/plain": [
       "'The capital of North Carolina is Raleigh.'"
      ]
     },
     "execution_count": 5,
     "metadata": {},
     "output_type": "execute_result"
    }
   ],
   "source": [
    "%%time\n",
    "\n",
    "model = llm.get_model(\"gpt4all-falcon-newbpe-q4_0\")\n",
    "response = model.prompt(\"The capital of North Carolina?\")\n",
    "response.text()"
   ]
  },
  {
   "cell_type": "markdown",
   "id": "370656d1-8586-49d2-a259-a1e830edc651",
   "metadata": {},
   "source": [
    "## ChatGPT 3.5 Turbo"
   ]
  },
  {
   "cell_type": "code",
   "execution_count": 6,
   "id": "cf0b075b-a4b8-4e55-9070-11373736923e",
   "metadata": {},
   "outputs": [],
   "source": [
    "gpt35_model = llm.get_model(\"gpt-3.5-turbo\")\n",
    "gpt35_model.key = os.getenv(\"OPENAI_API_KEY\")"
   ]
  },
  {
   "cell_type": "code",
   "execution_count": 7,
   "id": "865959fd-8af4-4820-a5e4-51fff5e7b598",
   "metadata": {},
   "outputs": [
    {
     "name": "stdout",
     "output_type": "stream",
     "text": [
      "CPU times: user 43.4 ms, sys: 16.3 ms, total: 59.7 ms\n",
      "Wall time: 778 ms\n"
     ]
    },
    {
     "data": {
      "text/plain": [
       "'The capital of North Carolina is Raleigh.'"
      ]
     },
     "execution_count": 7,
     "metadata": {},
     "output_type": "execute_result"
    }
   ],
   "source": [
    "%%time\n",
    "\n",
    "response = gpt35_model.prompt(\"The capital of North Carolina?\")\n",
    "response.text()"
   ]
  },
  {
   "cell_type": "markdown",
   "id": "b45e98fd-2193-4404-b389-580ac30123a8",
   "metadata": {},
   "source": [
    "## Traffic law enforcement statistics statute\n",
    "\n",
    "Warning: Be careful with OpenAI costs! https://platform.openai.com/usage"
   ]
  },
  {
   "cell_type": "code",
   "execution_count": 6,
   "id": "a03d2c9c-45bc-4b14-be1a-ee7f8da6b74b",
   "metadata": {},
   "outputs": [],
   "source": [
    "resp = requests.get(\"https://www.ncleg.gov/EnactedLegislation/Statutes/HTML/BySection/Chapter_143B/GS_143B-903.html\")\n",
    "gs_143b_903 = strip_tags(resp.content)"
   ]
  },
  {
   "cell_type": "code",
   "execution_count": 7,
   "id": "3b82e0c1-b067-48e5-be53-52414def626b",
   "metadata": {},
   "outputs": [
    {
     "name": "stdout",
     "output_type": "stream",
     "text": [
      "CPU times: user 212 ms, sys: 24.7 ms, total: 237 ms\n",
      "Wall time: 4.38 s\n"
     ]
    },
    {
     "data": {
      "text/plain": [
       "'This section of the law outlines the requirements for the collection of traffic law enforcement statistics in North Carolina. The Department of Public Safety is responsible for collecting and maintaining information regarding traffic law enforcement by law enforcement officers, including the number of drivers stopped, identifying characteristics of drivers, alleged traffic violations, search details, citations issued, arrests made, use of force, injuries, and more. The information must be submitted to the Department within 60 days of the close of each month, and agencies that fail to comply may be ineligible for certain law enforcement grants. Law enforcement officers are assigned anonymous identification numbers, with the correlation between identification numbers and officer names being kept confidential. The Department must publish and distribute a list of officers subject to these provisions each year by December 1.'"
      ]
     },
     "execution_count": 7,
     "metadata": {},
     "output_type": "execute_result"
    }
   ],
   "source": [
    "%%time\n",
    "\n",
    "response = gpt35_model.prompt(gs_143b_903, system=\"summerize\")\n",
    "response.text()"
   ]
  },
  {
   "cell_type": "code",
   "execution_count": 13,
   "id": "c9c3d334-72a1-4075-9c4e-2d0c9d03d70a",
   "metadata": {},
   "outputs": [
    {
     "name": "stdout",
     "output_type": "stream",
     "text": [
      "CPU times: user 405 ms, sys: 526 ms, total: 932 ms\n",
      "Wall time: 17.2 s\n"
     ]
    },
    {
     "data": {
      "text/plain": [
       "'The information required by this section is collected by law enforcement officers in the course of their duties to assist in traffic law enforcement and crime prevention. The data collected includes the number of drivers stopped for routine traffic enforcement, identifying characteristics of the drivers stopped, the alleged traffic violation that led to the stop, whether a search was instituted as a result of the stop, whether any contraband was found and the type and amount of any such contraband, whether an arrest was made as a result of either the stop or the search, whether any property was seized, with a description of that property, whether the officers making the stop encountered any physical resistance from the driver or passenger or passengers, whether the officers making the stop engaged in the use of force against the driver, passenger, or passengers, whether any injuries resulted from the stop, whether the circumstances surrounding the stop were the subject of any investigation, and the results of that investigation. The data collected is used to assist in traffic law enforcement and crime prevention efforts,'"
      ]
     },
     "execution_count": 13,
     "metadata": {},
     "output_type": "execute_result"
    }
   ],
   "source": [
    "%%time\n",
    "\n",
    "response = model.prompt(gs_143b_903, system=\"summerize\")\n",
    "response.text()"
   ]
  },
  {
   "cell_type": "markdown",
   "id": "3b8b5bff-72d4-4cdf-8ffd-093eca8359dd",
   "metadata": {},
   "source": [
    "* https://www.ncleg.gov/EnactedLegislation/Statutes/HTML/BySection/Chapter_143B/GS_143B-903.html\n",
    "* https://github.com/vince-lam/awesome-local-llms"
   ]
  }
 ],
 "metadata": {
  "kernelspec": {
   "display_name": "Python 3 (ipykernel)",
   "language": "python",
   "name": "python3"
  },
  "language_info": {
   "codemirror_mode": {
    "name": "ipython",
    "version": 3
   },
   "file_extension": ".py",
   "mimetype": "text/x-python",
   "name": "python",
   "nbconvert_exporter": "python",
   "pygments_lexer": "ipython3",
   "version": "3.11.7"
  }
 },
 "nbformat": 4,
 "nbformat_minor": 5
}
