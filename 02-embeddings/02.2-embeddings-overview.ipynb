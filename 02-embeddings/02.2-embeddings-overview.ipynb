{
 "cells": [
  {
   "cell_type": "markdown",
   "id": "d0643709-c41e-4cb7-bc78-e8a699e23485",
   "metadata": {},
   "source": [
    "# Embeddings Overview\n",
    "Last updated: March 17, 2024"
   ]
  },
  {
   "cell_type": "code",
   "execution_count": 5,
   "id": "8c9dfa82-7a40-4609-a038-77f7ab4f67f5",
   "metadata": {},
   "outputs": [],
   "source": [
    "import os\n",
    "\n",
    "import pandas as pd\n",
    "from pgvector.psycopg import register_vector\n",
    "from sqlalchemy import create_engine"
   ]
  },
  {
   "cell_type": "code",
   "execution_count": 6,
   "id": "a91c21c6-8bad-4a09-8d9e-29c71da6fe38",
   "metadata": {},
   "outputs": [],
   "source": [
    "pg_engine = create_engine(os.getenv(\"DATABASE_URL\"))"
   ]
  },
  {
   "cell_type": "code",
   "execution_count": 7,
   "id": "6c661079-4f76-4bac-bf20-3ee76b1f95ad",
   "metadata": {},
   "outputs": [
    {
     "name": "stdout",
     "output_type": "stream",
     "text": [
      "<class 'pandas.core.frame.DataFrame'>\n",
      "RangeIndex: 8112 entries, 0 to 8111\n",
      "Data columns (total 10 columns):\n",
      " #   Column             Non-Null Count  Dtype              \n",
      "---  ------             --------------  -----              \n",
      " 0   statute_id         8112 non-null   int64              \n",
      " 1   created_at         8112 non-null   datetime64[ns, UTC]\n",
      " 2   chapter_number     8112 non-null   object             \n",
      " 3   chapter_name       8112 non-null   object             \n",
      " 4   statute            8112 non-null   object             \n",
      " 5   section_name       8112 non-null   object             \n",
      " 6   url                8112 non-null   object             \n",
      " 7   raw_html           8112 non-null   object             \n",
      " 8   content            8112 non-null   object             \n",
      " 9   content_embedding  0 non-null      object             \n",
      "dtypes: datetime64[ns, UTC](1), int64(1), object(8)\n",
      "memory usage: 633.9+ KB\n"
     ]
    }
   ],
   "source": [
    "df = pd.read_sql(\n",
    "    f\"\"\"\n",
    "    SELECT\n",
    "        *\n",
    "    FROM statutes\n",
    "    \"\"\",\n",
    "    pg_engine\n",
    ")\n",
    "df.info()"
   ]
  },
  {
   "cell_type": "markdown",
   "id": "098583e2-5fc9-439f-ade4-e0db1001c8ab",
   "metadata": {},
   "source": [
    "## What are embeddings?"
   ]
  },
  {
   "cell_type": "code",
   "execution_count": 8,
   "id": "0363adbd-22eb-4ff2-8137-ed6d10406810",
   "metadata": {},
   "outputs": [
    {
     "name": "stdout",
     "output_type": "stream",
     "text": [
      "CPU times: user 2.92 s, sys: 4.53 s, total: 7.45 s\n",
      "Wall time: 3.75 s\n"
     ]
    }
   ],
   "source": [
    "%%time\n",
    "\n",
    "from sentence_transformers import SentenceTransformer\n",
    "model = SentenceTransformer(\"all-mpnet-base-v2\")"
   ]
  },
  {
   "cell_type": "code",
   "execution_count": 9,
   "id": "05147a64-a979-48af-b001-11b318f682b8",
   "metadata": {},
   "outputs": [
    {
     "data": {
      "text/html": [
       "<div>\n",
       "<style scoped>\n",
       "    .dataframe tbody tr th:only-of-type {\n",
       "        vertical-align: middle;\n",
       "    }\n",
       "\n",
       "    .dataframe tbody tr th {\n",
       "        vertical-align: top;\n",
       "    }\n",
       "\n",
       "    .dataframe thead th {\n",
       "        text-align: right;\n",
       "    }\n",
       "</style>\n",
       "<table border=\"1\" class=\"dataframe\">\n",
       "  <thead>\n",
       "    <tr style=\"text-align: right;\">\n",
       "      <th></th>\n",
       "      <th>sentence</th>\n",
       "      <th>embedding</th>\n",
       "    </tr>\n",
       "  </thead>\n",
       "  <tbody>\n",
       "    <tr>\n",
       "      <th>0</th>\n",
       "      <td>This framework generates embeddings for each i...</td>\n",
       "      <td>[0.006416996, 0.007041461, -0.028144179, 0.051...</td>\n",
       "    </tr>\n",
       "    <tr>\n",
       "      <th>1</th>\n",
       "      <td>Sentences are passed as a list of string.</td>\n",
       "      <td>[0.07764478, -0.059052207, -0.039118372, 0.046...</td>\n",
       "    </tr>\n",
       "    <tr>\n",
       "      <th>2</th>\n",
       "      <td>The quick brown fox jumps over the lazy dog.</td>\n",
       "      <td>[-0.034292687, -0.001339469, 0.0043361243, -0....</td>\n",
       "    </tr>\n",
       "  </tbody>\n",
       "</table>\n",
       "</div>"
      ],
      "text/plain": [
       "                                            sentence  \\\n",
       "0  This framework generates embeddings for each i...   \n",
       "1          Sentences are passed as a list of string.   \n",
       "2       The quick brown fox jumps over the lazy dog.   \n",
       "\n",
       "                                           embedding  \n",
       "0  [0.006416996, 0.007041461, -0.028144179, 0.051...  \n",
       "1  [0.07764478, -0.059052207, -0.039118372, 0.046...  \n",
       "2  [-0.034292687, -0.001339469, 0.0043361243, -0....  "
      ]
     },
     "execution_count": 9,
     "metadata": {},
     "output_type": "execute_result"
    }
   ],
   "source": [
    "# Our sentences to encode\n",
    "sentences = [\n",
    "    \"This framework generates embeddings for each input sentence\",\n",
    "    \"Sentences are passed as a list of string.\",\n",
    "    \"The quick brown fox jumps over the lazy dog.\"\n",
    "]\n",
    "\n",
    "# Sentences are encoded by calling model.encode()\n",
    "embeddings = model.encode(sentences)\n",
    "\n",
    "# Print the embeddings\n",
    "both = [(sentence, embedding) for sentence, embedding in zip(sentences, embeddings)]\n",
    "pd.DataFrame.from_records(both, columns=(\"sentence\", \"embedding\"))"
   ]
  },
  {
   "cell_type": "markdown",
   "id": "3a56923a-4dd1-4234-a8c8-cc267152d649",
   "metadata": {},
   "source": [
    "## Statutes: calculate embeddings"
   ]
  },
  {
   "cell_type": "code",
   "execution_count": 10,
   "id": "1bdc1c34-78c9-45cb-83c9-b9f7093dbdc4",
   "metadata": {},
   "outputs": [
    {
     "data": {
      "text/plain": [
       "0       Article 1. \\nDefinitions. \\n§ 1‑1.  Remedies.\\...\n",
       "1       § 1‑2.  Actions.\\nAn action is an ordinary pro...\n",
       "2       § 1‑3.  Special proceedings.\\nEvery other reme...\n",
       "3       § 1‑4.  Kinds of actions.\\nActions are of two ...\n",
       "4       § 1‑49.  Seven years.\\nWithin seven years an a...\n",
       "                              ...                        \n",
       "8107    Article 8.\\nTemporary Care and Restraint of In...\n",
       "8108    Article 9.\\nMental Health Council.\\n§§ 35‑61 t...\n",
       "8109    Article 10.\\nInterstate Compact on Mental Heal...\n",
       "8110    Article 11.\\nMedical Advisory Council to State...\n",
       "8111    Article 12.\\nCouncil on Mental Retardation and...\n",
       "Name: content, Length: 8112, dtype: object"
      ]
     },
     "execution_count": 10,
     "metadata": {},
     "output_type": "execute_result"
    }
   ],
   "source": [
    "df[\"content\"]"
   ]
  },
  {
   "cell_type": "code",
   "execution_count": 11,
   "id": "dcfe3a39-1675-4dbe-9f14-af4aec339a27",
   "metadata": {},
   "outputs": [
    {
     "name": "stdout",
     "output_type": "stream",
     "text": [
      "CPU times: user 3min 58s, sys: 4min 44s, total: 8min 43s\n",
      "Wall time: 1min 48s\n"
     ]
    }
   ],
   "source": [
    "%%time\n",
    "\n",
    "embeddings = model.encode(df[\"content\"].tolist())"
   ]
  },
  {
   "cell_type": "code",
   "execution_count": 17,
   "id": "f734da98-bc18-4464-a249-a521a8b7b3a8",
   "metadata": {},
   "outputs": [
    {
     "data": {
      "text/html": [
       "<div>\n",
       "<style scoped>\n",
       "    .dataframe tbody tr th:only-of-type {\n",
       "        vertical-align: middle;\n",
       "    }\n",
       "\n",
       "    .dataframe tbody tr th {\n",
       "        vertical-align: top;\n",
       "    }\n",
       "\n",
       "    .dataframe thead th {\n",
       "        text-align: right;\n",
       "    }\n",
       "</style>\n",
       "<table border=\"1\" class=\"dataframe\">\n",
       "  <thead>\n",
       "    <tr style=\"text-align: right;\">\n",
       "      <th></th>\n",
       "      <th>content_embedding</th>\n",
       "      <th>statute_id</th>\n",
       "    </tr>\n",
       "  </thead>\n",
       "  <tbody>\n",
       "    <tr>\n",
       "      <th>0</th>\n",
       "      <td>[0.04147131368517876, -0.0322742760181427, 0.0...</td>\n",
       "      <td>1</td>\n",
       "    </tr>\n",
       "    <tr>\n",
       "      <th>1</th>\n",
       "      <td>[-0.033325351774692535, -0.06919444352388382, ...</td>\n",
       "      <td>2</td>\n",
       "    </tr>\n",
       "    <tr>\n",
       "      <th>2</th>\n",
       "      <td>[0.02636847086250782, -0.03957170993089676, 0....</td>\n",
       "      <td>3</td>\n",
       "    </tr>\n",
       "    <tr>\n",
       "      <th>3</th>\n",
       "      <td>[-0.02005830779671669, -0.010654936544597149, ...</td>\n",
       "      <td>4</td>\n",
       "    </tr>\n",
       "    <tr>\n",
       "      <th>4</th>\n",
       "      <td>[0.0192421805113554, 0.0806661993265152, 0.054...</td>\n",
       "      <td>63</td>\n",
       "    </tr>\n",
       "    <tr>\n",
       "      <th>...</th>\n",
       "      <td>...</td>\n",
       "      <td>...</td>\n",
       "    </tr>\n",
       "    <tr>\n",
       "      <th>8107</th>\n",
       "      <td>[-0.010719257406890392, 0.0025900101754814386,...</td>\n",
       "      <td>8108</td>\n",
       "    </tr>\n",
       "    <tr>\n",
       "      <th>8108</th>\n",
       "      <td>[0.015394539572298527, -0.02387923374772072, 0...</td>\n",
       "      <td>8109</td>\n",
       "    </tr>\n",
       "    <tr>\n",
       "      <th>8109</th>\n",
       "      <td>[-0.0015342566184699535, 0.036397114396095276,...</td>\n",
       "      <td>8110</td>\n",
       "    </tr>\n",
       "    <tr>\n",
       "      <th>8110</th>\n",
       "      <td>[0.008933783508837223, -0.00815458595752716, 0...</td>\n",
       "      <td>8111</td>\n",
       "    </tr>\n",
       "    <tr>\n",
       "      <th>8111</th>\n",
       "      <td>[-0.008333496749401093, -0.0075187054462730885...</td>\n",
       "      <td>8112</td>\n",
       "    </tr>\n",
       "  </tbody>\n",
       "</table>\n",
       "<p>8112 rows × 2 columns</p>\n",
       "</div>"
      ],
      "text/plain": [
       "                                      content_embedding  statute_id\n",
       "0     [0.04147131368517876, -0.0322742760181427, 0.0...           1\n",
       "1     [-0.033325351774692535, -0.06919444352388382, ...           2\n",
       "2     [0.02636847086250782, -0.03957170993089676, 0....           3\n",
       "3     [-0.02005830779671669, -0.010654936544597149, ...           4\n",
       "4     [0.0192421805113554, 0.0806661993265152, 0.054...          63\n",
       "...                                                 ...         ...\n",
       "8107  [-0.010719257406890392, 0.0025900101754814386,...        8108\n",
       "8108  [0.015394539572298527, -0.02387923374772072, 0...        8109\n",
       "8109  [-0.0015342566184699535, 0.036397114396095276,...        8110\n",
       "8110  [0.008933783508837223, -0.00815458595752716, 0...        8111\n",
       "8111  [-0.008333496749401093, -0.0075187054462730885...        8112\n",
       "\n",
       "[8112 rows x 2 columns]"
      ]
     },
     "execution_count": 17,
     "metadata": {},
     "output_type": "execute_result"
    }
   ],
   "source": [
    "df[\"content_embedding\"] = embeddings.tolist()\n",
    "df[[\"content_embedding\", \"statute_id\"]]"
   ]
  },
  {
   "cell_type": "markdown",
   "id": "cf661771-14c4-4dc6-9414-bc005c280339",
   "metadata": {},
   "source": [
    "## Statutes: update rows with embeddings"
   ]
  },
  {
   "cell_type": "code",
   "execution_count": 22,
   "id": "2ef89ced-76ae-4e69-909f-2f2978cdb705",
   "metadata": {},
   "outputs": [
    {
     "name": "stdout",
     "output_type": "stream",
     "text": [
      "CPU times: user 6.03 s, sys: 70.3 ms, total: 6.1 s\n",
      "Wall time: 6.1 s\n"
     ]
    }
   ],
   "source": [
    "%%time\n",
    "\n",
    "embeddings_and_ids = df[[\"content_embedding\", \"statute_id\"]].itertuples(index=False)\n",
    "\n",
    "with pg_engine.connect() as conn:\n",
    "    # https://docs.sqlalchemy.org/en/20/faq/connections.html#how-do-i-get-at-the-raw-dbapi-connection-when-using-an-engine\n",
    "    register_vector(conn.connection.driver_connection)\n",
    "    with conn.connection.cursor() as cursor:\n",
    "        cursor.executemany(\n",
    "            \"\"\"\n",
    "            UPDATE statutes SET content_embedding = %s WHERE statute_id = %s\n",
    "            \"\"\", \n",
    "            embeddings_and_ids\n",
    "        )\n",
    "    conn.connection.commit()"
   ]
  },
  {
   "cell_type": "code",
   "execution_count": 25,
   "id": "66adf055-25d4-4daf-ae9e-a51aeae27b33",
   "metadata": {},
   "outputs": [],
   "source": [
    "# %%time\n",
    "\n",
    "# embeddings_and_ids = df[[\"content_embedding\", \"statute_id\"]].itertuples(index=False)\n",
    "\n",
    "# with pg_engine.connect() as conn:\n",
    "#     # https://docs.sqlalchemy.org/en/20/faq/connections.html#how-do-i-get-at-the-raw-dbapi-connection-when-using-an-engine\n",
    "#     register_vector(conn.connection.driver_connection)\n",
    "#     with conn.connection.cursor() as cursor:\n",
    "#         for embedding, statue_id in embeddings_and_ids:\n",
    "#             cursor.execute('UPDATE statutes SET content_embedding = %s WHERE statute_id = %s', (embedding, statue_id))\n",
    "#     conn.connection.commit()"
   ]
  },
  {
   "cell_type": "code",
   "execution_count": 29,
   "id": "6f1b2eb2-abf3-4521-ab18-560b46cee283",
   "metadata": {},
   "outputs": [
    {
     "data": {
      "text/html": [
       "<div>\n",
       "<style scoped>\n",
       "    .dataframe tbody tr th:only-of-type {\n",
       "        vertical-align: middle;\n",
       "    }\n",
       "\n",
       "    .dataframe tbody tr th {\n",
       "        vertical-align: top;\n",
       "    }\n",
       "\n",
       "    .dataframe thead th {\n",
       "        text-align: right;\n",
       "    }\n",
       "</style>\n",
       "<table border=\"1\" class=\"dataframe\">\n",
       "  <thead>\n",
       "    <tr style=\"text-align: right;\">\n",
       "      <th></th>\n",
       "      <th>statute</th>\n",
       "      <th>content</th>\n",
       "      <th>content_embedding</th>\n",
       "    </tr>\n",
       "  </thead>\n",
       "  <tbody>\n",
       "    <tr>\n",
       "      <th>0</th>\n",
       "      <td>1-1</td>\n",
       "      <td>Article 1. \\nDefinitions. \\n§ 1‑1.  Remedies.\\...</td>\n",
       "      <td>[0.041471314, -0.032274276, 0.042042375, -0.00...</td>\n",
       "    </tr>\n",
       "    <tr>\n",
       "      <th>1</th>\n",
       "      <td>1-10</td>\n",
       "      <td>§ 1‑10.  Plaintiff and defendant.\\nIn civil ac...</td>\n",
       "      <td>[-0.014724571, -0.04928847, 0.031303033, 0.055...</td>\n",
       "    </tr>\n",
       "    <tr>\n",
       "      <th>2</th>\n",
       "      <td>1-100_through_1-104</td>\n",
       "      <td>§§ 1‑100 through 1‑104.  Repealed by Session L...</td>\n",
       "      <td>[-0.018579958, -0.016739732, 0.032597266, 0.01...</td>\n",
       "    </tr>\n",
       "    <tr>\n",
       "      <th>3</th>\n",
       "      <td>1-105</td>\n",
       "      <td>§ 1‑105.1.  Service on residents who establish...</td>\n",
       "      <td>[-0.023890587, -0.031677235, 0.014264807, 0.00...</td>\n",
       "    </tr>\n",
       "    <tr>\n",
       "      <th>4</th>\n",
       "      <td>1-105</td>\n",
       "      <td>§ 1‑105.  Service upon nonresident drivers of ...</td>\n",
       "      <td>[-0.0056505073, 0.014521363, 0.05465263, 0.038...</td>\n",
       "    </tr>\n",
       "    <tr>\n",
       "      <th>5</th>\n",
       "      <td>1-106_through_1-107</td>\n",
       "      <td>§§ 1‑106 through 1‑107.3.  Repealed by Session...</td>\n",
       "      <td>[-0.013538554, -0.026661754, 0.03608902, 0.027...</td>\n",
       "    </tr>\n",
       "    <tr>\n",
       "      <th>6</th>\n",
       "      <td>1-108</td>\n",
       "      <td>§ 1‑108.  Defense after judgment set aside.\\nI...</td>\n",
       "      <td>[0.03706608, 0.050787423, 0.029943377, 0.05583...</td>\n",
       "    </tr>\n",
       "    <tr>\n",
       "      <th>7</th>\n",
       "      <td>1-109</td>\n",
       "      <td>Article 9.\\nProsecution Bonds.\\n§ 1‑109.  Bond...</td>\n",
       "      <td>[0.04233295, 0.0049180645, 0.04980833, 0.02374...</td>\n",
       "    </tr>\n",
       "    <tr>\n",
       "      <th>8</th>\n",
       "      <td>1-11</td>\n",
       "      <td>§ 1‑11.  How party may appear.\\nA party may ap...</td>\n",
       "      <td>[-0.017318211, -0.0143290665, 0.0007942389, 0....</td>\n",
       "    </tr>\n",
       "    <tr>\n",
       "      <th>9</th>\n",
       "      <td>1-110</td>\n",
       "      <td>§ 1‑110.  Suit as an indigent; counsel; suits ...</td>\n",
       "      <td>[0.017942425, 0.016565232, 0.021090308, 0.0065...</td>\n",
       "    </tr>\n",
       "  </tbody>\n",
       "</table>\n",
       "</div>"
      ],
      "text/plain": [
       "               statute                                            content  \\\n",
       "0                  1-1  Article 1. \\nDefinitions. \\n§ 1‑1.  Remedies.\\...   \n",
       "1                 1-10  § 1‑10.  Plaintiff and defendant.\\nIn civil ac...   \n",
       "2  1-100_through_1-104  §§ 1‑100 through 1‑104.  Repealed by Session L...   \n",
       "3                1-105  § 1‑105.1.  Service on residents who establish...   \n",
       "4                1-105  § 1‑105.  Service upon nonresident drivers of ...   \n",
       "5  1-106_through_1-107  §§ 1‑106 through 1‑107.3.  Repealed by Session...   \n",
       "6                1-108  § 1‑108.  Defense after judgment set aside.\\nI...   \n",
       "7                1-109  Article 9.\\nProsecution Bonds.\\n§ 1‑109.  Bond...   \n",
       "8                 1-11  § 1‑11.  How party may appear.\\nA party may ap...   \n",
       "9                1-110  § 1‑110.  Suit as an indigent; counsel; suits ...   \n",
       "\n",
       "                                   content_embedding  \n",
       "0  [0.041471314, -0.032274276, 0.042042375, -0.00...  \n",
       "1  [-0.014724571, -0.04928847, 0.031303033, 0.055...  \n",
       "2  [-0.018579958, -0.016739732, 0.032597266, 0.01...  \n",
       "3  [-0.023890587, -0.031677235, 0.014264807, 0.00...  \n",
       "4  [-0.0056505073, 0.014521363, 0.05465263, 0.038...  \n",
       "5  [-0.013538554, -0.026661754, 0.03608902, 0.027...  \n",
       "6  [0.03706608, 0.050787423, 0.029943377, 0.05583...  \n",
       "7  [0.04233295, 0.0049180645, 0.04980833, 0.02374...  \n",
       "8  [-0.017318211, -0.0143290665, 0.0007942389, 0....  \n",
       "9  [0.017942425, 0.016565232, 0.021090308, 0.0065...  "
      ]
     },
     "execution_count": 29,
     "metadata": {},
     "output_type": "execute_result"
    }
   ],
   "source": [
    "pd.read_sql(\n",
    "    f\"\"\"\n",
    "    SELECT\n",
    "        statute\n",
    "        , content\n",
    "        , content_embedding\n",
    "    FROM statutes\n",
    "    ORDER BY statute\n",
    "    LIMIT 10\n",
    "    \"\"\",\n",
    "    pg_engine\n",
    ")"
   ]
  },
  {
   "cell_type": "code",
   "execution_count": null,
   "id": "ffef3805-2232-4d87-8295-940f7703865b",
   "metadata": {},
   "outputs": [],
   "source": []
  },
  {
   "cell_type": "code",
   "execution_count": null,
   "id": "9d794ece-7ced-49b3-9dbf-b1505ab3556f",
   "metadata": {},
   "outputs": [],
   "source": []
  },
  {
   "cell_type": "code",
   "execution_count": null,
   "id": "2036aefa-3542-44ff-9a94-5251a4e76eeb",
   "metadata": {},
   "outputs": [],
   "source": []
  },
  {
   "cell_type": "code",
   "execution_count": null,
   "id": "9881d895-f744-4489-88f2-ee039b34a8d4",
   "metadata": {},
   "outputs": [],
   "source": []
  },
  {
   "cell_type": "code",
   "execution_count": null,
   "id": "9fc141ef-46c2-4f88-8c9e-af70138ffa9c",
   "metadata": {},
   "outputs": [],
   "source": []
  },
  {
   "cell_type": "code",
   "execution_count": null,
   "id": "d3c8ae88-9be6-4c41-b556-f3e239d89f73",
   "metadata": {},
   "outputs": [],
   "source": []
  },
  {
   "cell_type": "code",
   "execution_count": 73,
   "id": "d175d501-c606-4c6d-aada-27cdd5607a1c",
   "metadata": {},
   "outputs": [],
   "source": [
    "# foo = list()"
   ]
  },
  {
   "cell_type": "code",
   "execution_count": 20,
   "id": "80283741-503f-4cb7-8e42-ab8ba771d1c4",
   "metadata": {},
   "outputs": [],
   "source": [
    "import pandas as pd\n",
    "\n",
    "import json\n",
    "import logging\n",
    "import pathlib\n",
    "import re\n",
    "import sys\n",
    "from urllib.parse import urljoin, urlparse\n",
    "from strip_tags import strip_tags\n",
    "from tqdm.notebook import tqdm\n",
    "from sqlalchemy import create_engine\n",
    "from pgvector.psycopg import register_vector\n",
    "from sqlalchemy import text\n",
    "import redis\n",
    "import requests\n",
    "from bs4 import BeautifulSoup\n",
    "\n",
    "redis_client = redis.Redis(host='localhost', port=63791, db=0, protocol=3)\n",
    "\n",
    "logging.basicConfig(stream=sys.stdout, level=logging.WARNING)\n",
    "\n",
    "STATUTE_RE = re.compile(r\".*GS_([\\d\\w-]+)\")\n",
    "CHAPTER_NUMBER_RE = re.compile(r\"Chapter ([\\d\\w]+)\")\n",
    "SECTION_TITLE_RE = re.compile(r\"([\\w ]+)\\.$\")\n",
    "\n",
    "logger = logging.getLogger(\"scraper\")\n",
    "\n",
    "\n",
    "def fetch_page(path):\n",
    "    content = redis_client.get(path)\n",
    "    if not content:\n",
    "        uri = urljoin(\"https://www.ncleg.gov/\", path)\n",
    "        content = requests.get(uri).content\n",
    "        redis_client.set(path, content)\n",
    "    return BeautifulSoup(content, features=\"html.parser\")\n",
    "\n",
    "\n",
    "def parse_section(section):\n",
    "    page_soup = fetch_page(section.get(\"href\"))\n",
    "    return {\n",
    "        \"raw_html\": str(page_soup),\n",
    "        \"statute\": STATUTE_RE.match(section.get(\"href\")).group(1),\n",
    "        \"content\": strip_tags(str(page_soup), [\"p\"])\n",
    "    }\n",
    "\n",
    "\n",
    "def scrape_chapter_sections(chapter_page_soup):\n",
    "    chapter = chapter_page_soup.select_one(\"h1.section-title\").text\n",
    "    chapter_name = chapter.split(\"-\")[1].strip().strip(\".\")\n",
    "    chapter_number = CHAPTER_NUMBER_RE.match(chapter.split(\"-\")[0]).group(1)\n",
    "    section_anchors = chapter_page_soup.select(\"div#chapter div.row a[href*=BySection][href*=HTML]\")\n",
    "    sections = []\n",
    "    for section in tqdm(section_anchors, desc=f\"Chapter {chapter_number}\"):\n",
    "        row = section.find_parent(\"div\", class_=\"row\")\n",
    "        title_tag = row.select_one('div.row').select('a')[1]\n",
    "        try:\n",
    "            section_name = SECTION_TITLE_RE.search(title_tag.text).group(1).strip()\n",
    "        except AttributeError:\n",
    "            section_name = \"\"\n",
    "        try:\n",
    "            data = parse_section(section)\n",
    "        except requests.exceptions.ConnectTimeout:\n",
    "            logger.error(section.get(\"href\"))\n",
    "            continue\n",
    "        data[\"chapter_number\"] = chapter_number\n",
    "        data[\"chapter_name\"] = chapter_name\n",
    "        data[\"section_name\"] = section_name\n",
    "        data[\"url\"] = urljoin(\"https://www.ncleg.gov/\", section.get(\"href\"))\n",
    "        sections.append(data)\n",
    "    return sections\n",
    "\n",
    "def scrape_chapters():\n",
    "    data = []\n",
    "    soup = fetch_page(\"/Laws/GeneralStatutesTOC\")\n",
    "    chapter_anchors = soup.select(\"div#gsTOC div.row a[title*=Chapter]:-soup-contains('Chapter')\")\n",
    "    for anchor in chapter_anchors:\n",
    "        chapter_page_soup = fetch_page(anchor.get(\"href\"))\n",
    "        sections = scrape_chapter_sections(chapter_page_soup)\n",
    "        data.extend(sections)\n",
    "        if sections[0][\"chapter_number\"] == \"35\":\n",
    "            break\n",
    "    return data"
   ]
  },
  {
   "cell_type": "code",
   "execution_count": 3,
   "id": "898ae42c-bc54-4a09-a881-d909abacce4b",
   "metadata": {
    "scrolled": true
   },
   "outputs": [],
   "source": [
    "pg_engine = create_engine(os.getenv(\"DATABASE_URL\"))\n",
    "pg_conn = pg_engine.connect()\n",
    "# https://docs.sqlalchemy.org/en/20/faq/connections.html#how-do-i-get-at-the-raw-dbapi-connection-when-using-an-engine\n",
    "connection_fairy = pg_conn.connection\n",
    "driver_conn = connection_fairy.driver_connection\n",
    "register_vector(driver_conn)"
   ]
  },
  {
   "cell_type": "code",
   "execution_count": 24,
   "id": "9c3b0f0f-c8d9-4a5e-a235-b3b2ee586080",
   "metadata": {},
   "outputs": [
    {
     "name": "stdout",
     "output_type": "stream",
     "text": [
      "CPU times: user 5.61 s, sys: 2.12 s, total: 7.73 s\n",
      "Wall time: 4.46 s\n"
     ]
    }
   ],
   "source": [
    "%%time\n",
    "\n",
    "from sentence_transformers import SentenceTransformer\n",
    "# model = SentenceTransformer(\"all-MiniLM-L6-v2\")\n",
    "model = SentenceTransformer(\"all-MiniLM-L12-v2\")all-mpnet-base-v2"
   ]
  },
  {
   "cell_type": "code",
   "execution_count": 25,
   "id": "881a1d7e-28b5-4bf0-8e41-cef28dfee011",
   "metadata": {},
   "outputs": [],
   "source": [
    "# # Our sentences to encode\n",
    "# sentences = [\n",
    "#     \"This framework generates embeddings for each input sentence\",\n",
    "#     \"Sentences are passed as a list of string.\",\n",
    "#     \"The quick brown fox jumps over the lazy dog.\"\n",
    "# ]\n",
    "\n",
    "# # Sentences are encoded by calling model.encode()\n",
    "# embeddings = model.encode(sentences)\n",
    "\n",
    "# # Print the embeddings\n",
    "# for sentence, embedding in zip(sentences, embeddings):\n",
    "#     print(\"Sentence:\", sentence)\n",
    "#     print(\"Embedding:\", len(embedding))\n",
    "#     print(\"\")"
   ]
  },
  {
   "cell_type": "code",
   "execution_count": 26,
   "id": "6b8e553d-e04a-4b6e-a7f2-a1cbe35d6e20",
   "metadata": {},
   "outputs": [],
   "source": [
    "%%time\n",
    "\n",
    "embeddings = model.encode(df[\"content\"].tolist())\n",
    "df[\"content_embedding\"] = embeddings.tolist()"
   ]
  },
  {
   "cell_type": "code",
   "execution_count": 27,
   "id": "c341655f-1139-4648-85d2-62e448c1ede5",
   "metadata": {},
   "outputs": [
    {
     "data": {
      "text/plain": [
       "991"
      ]
     },
     "execution_count": 27,
     "metadata": {},
     "output_type": "execute_result"
    }
   ],
   "source": [
    "df.to_sql(\n",
    "    \"statutes\",\n",
    "    pg_engine,\n",
    "    if_exists=\"append\",\n",
    "    index=False,\n",
    ")"
   ]
  },
  {
   "cell_type": "code",
   "execution_count": 56,
   "id": "2f34a281-0983-4a17-be6f-e64de681be25",
   "metadata": {},
   "outputs": [
    {
     "name": "stdout",
     "output_type": "stream",
     "text": [
      "Article 1.\n",
      "General Provisions.\n",
      "§ 143B‑1.  Short title.\n",
      "This Chapter shall be known and may be cited as the \"Executive Organization Act of 1973.\" (1973, c. 476, s. 1.)\n",
      "§ 143B‑2.  Interim applicability of the Executive Organization Act of 1973.\n",
      "The Executive Organization Act of 1973 shall be applicable only to the following named departments:\n",
      "(1)\tDepartment of Natural and Cultural Resources.\n",
      "(2)\tDepartment of Health and Human Services.\n",
      "(3)\tDepartment of Revenue.\n",
      "(4)\tDepartment of Public Safety.\n",
      "(5)\tRepealed by Session Laws 2012‑83, s. 47, effective June 26, 2012.\n",
      "(6)\tDepartment of Environmental Quality.\n",
      "(7)\tDepartment of Transportation.\n",
      "(8)\tDepartment of Administration.\n",
      "(9)\tDepartment of Commerce.\n",
      "(10)\tRepealed by Session Laws 2012‑83, s. 47, effective June 26, 2012.\n",
      "(11)\tDepartment of Information Technology.\n",
      "(12)\tDepartment of Adult Correction.  (1973, c. 476, s. 2; c. 620, s. 9; c. 1262, ss. 10, 86; 1975, c. 716, s. 5; c. 879, s. 46; 1977, c. 70, s. 22; c. 198, s. 21; c. 771, s. 4; 1989, c. 727, s. 218(121); c. 751, s. 7(18); 1991 (Reg. Sess., 1992), c. 959, s. 37; 1997‑443, ss. 11A.118(a), 11A.119(a); 2000‑137, s. 4(ll); 2011‑145, s. 19.1(g), (h), (l); 2012‑83, s. 47; 2015‑241, ss. 7A.1(c), 14.30(s), (u); 2021‑180, s. 19C.9(d).)\n",
      "§ 143B‑3.  Definitions.\n",
      "As used in the Executive Organization Act of 1973, except where the context clearly requires otherwise, the words and expressions defined in this section shall be held to have the meanings here given to them.\n",
      "(1)\tAgency: whenever the term \"agency\" is used it shall mean and include, as the context may require, an existing department, institution, commission, committee, board, division, bureau, officer or official.\n",
      "(2)\tBoard: a collective body which assists the head of a principal department or his designee in the development of major programs including the tender of advice on departmental priorities.\n",
      "(3)\tCommission: a collective body which adopts rules and regulations in a quasi‑legislative manner and which acts in a quasi‑judicial capacity in rendering findings or decisions involving differing interests.\n",
      "(4)\tCommittee: a collective body which either advises the head of a principal department or his designee or advises a commission in detailed technical areas.\n",
      "(5)\tCouncil: a collective body which advises the head of a principal department or his designee as representative of citizen advice in specific areas of interests.\n",
      "(6)\tDivision: the principal subunit of a principal State department.\n",
      "(7)\tHead of department: head of one of the principal State departments.\n",
      "(8)\tHigher education: State senior institutions of higher learning.\n",
      "(9)\tPrincipal State department: one of the departments created by the General Assembly in compliance with Article III, Sec. 11, of the Constitution of North Carolina. (1973, c. 476, s. 3.)\n",
      "§ 143B‑4.  Policy‑making authority and administrative powers of Governor; delegation.\n",
      "The Governor, in accordance with Article III of the Constitution of North Carolina, shall be the Chief Executive Officer of the State. The Governor shall be responsible for formulating and administering the policies of the executive branch of the State government. Where a conflict arises in connection with the administration of the policies of the executive branch of the State government with respect to the reorganization of State government, the conflict shall be resolved by the Governor, and the decision of the Governor shall be final. (1973, c. 476, s. 4.)\n",
      "§ 143B‑5.  Governor; continuation of powers and duties.\n",
      "All powers, duties, and functions vested by law in the Governor or in the Office of Governor are continued except as otherwise provided by the Executive Organization Act of 1973.\n",
      "The immediate staff of the Governor shall not be subject to the North Carolina Human Resources Act.  (1973, c. 476, s. 5; 2013‑382, s. 9.1(c).)\n",
      "§ 143B‑6.  Principal departments.\n",
      "In addition to the principal departments enumerated in the Executive Organization Act of 1971, all executive and administrative powers, duties, and functions not including those of the General Assembly and its agencies, the General Court of Justice and the administrative agencies created pursuant to Article IV of the Constitution of North Carolina, and higher education previously vested by law in the several State agencies, are vested in the following principal departments:\n",
      "(1)\tDepartment of Natural and Cultural Resources.\n",
      "(2)\tDepartment of Health and Human Services.\n",
      "(3)\tDepartment of Revenue.\n",
      "(4)\tDepartment of Public Safety.\n",
      "(5)\tRepealed by Session Laws 2012‑83, s. 48, effective June 26, 2012.\n",
      "(6)\tDepartment of Environmental Quality.\n",
      "(7)\tDepartment of Transportation.\n",
      "(8)\tDepartment of Administration.\n",
      "(9)\tDepartment of Commerce.\n",
      "(10)\tCommunity Colleges System Office.\n",
      "(11)\tRepealed by Session Laws 2012‑83, s. 48, effective June 26, 2012.\n",
      "(12)\tDepartment of Information Technology.\n",
      "(13)\tDepartment of Military and Veterans Affairs.\n",
      "(14)\tDepartment of Adult Correction.  (1973, c. 476, s. 6; c. 620, s. 9; c. 1262, ss. 10, 86; 1975, c. 716, s. 5; c. 879, s. 46; 1977, c. 70, s. 23; c. 198, s. 22; c. 771, s. 4; 1979, 2nd Sess., c. 1130, s. 3; 1989, c. 727, s. 218(122); c. 751, s. 7(19); 1991 (Reg. Sess., 1992), c. 959, s. 38; 1997‑443, ss. 11A.118(a), 11A.119(a); 1999‑84, s. 23; 2000‑137, s. 4(mm); 2011‑145, s. 19.1(g), (h), (l); 2012‑83, s. 48; 2015‑241, ss. 7A.1(d), 14.30(s), (u), 24.1(aa); 2015‑268, s. 7.3(a); 2021‑180, s. 19C.9(e).)\n",
      "§ 143B‑7.  Continuation of functions.\n",
      "Each principal State department shall be considered a continuation of the former agencies to whose power it has succeeded for the purpose of succession to all rights, powers, duties, and obligations of the former agency. Where a former agency is referred to by law, contract, or other document, that reference shall apply to the principal State department now exercising the functions of the former agency. (1973, c. 476, s. 7.)\n",
      "§ 143B‑8.  Unassigned functions.\n",
      "All functions, duties, and responsibilities established by law that are not specifically assigned to any principal State department may be assigned by the Governor to that department which, in accordance with the organization of State government, can most appropriately and effectively perform those functions, duties, and responsibilities. This provision shall not apply to professional and occupational licensing boards or to higher education. (1973, c. 476, s. 8.)\n",
      "§ 143B‑9.  Appointment of officers and employees.\n",
      "(a)\tThe head of each principal State department, except those departments headed by popularly elected officers, shall be appointed by the Governor and serve at the Governor's pleasure. The salary of the head of each of the principal State departments shall be set by the Governor, and the salary of elected officials shall be as provided by law.\n",
      "For each head of each principal State department covered by this subsection, the Governor shall notify the President of the Senate of the name of each person to be appointed, and the appointment shall be subject to senatorial advice and consent in conformance with Section 5(8) of Article III of the North Carolina Constitution unless (i) the senatorial advice and consent is expressly waived by an enactment of the General Assembly or (ii) a vacancy occurs when the General Assembly is not in regular session. Any person appointed to fill a vacancy when the General Assembly is not in regular session may serve without senatorial advice and consent for no longer than the earlier of the following:\n",
      "(1)\tThe date on which the Senate adopts a simple resolution that specifically disapproves the person appointed.\n",
      "(2)\tThe date on which the General Assembly shall adjourn pursuant to a joint resolution for a period longer than 30 days without the Senate adopting a simple resolution specifically approving the person appointed.\n",
      "(b)\tThe head of a principal State department shall appoint a chief deputy or chief assistant, and such chief deputy or chief assistant shall not be subject to the North Carolina Human Resources Act. The salary of such chief deputy or chief assistant shall be set by the Governor. Unless otherwise provided for in the Executive Organization Act of 1973, and subject to the provisions of the Human Resources Act, the head of each principal State department shall designate the administrative head of each transferred agency and all employees of each division, section, or other unit of the principal State department.  (1973, c. 476, s. 9; 1977, c. 802, s. 42.20; 1983, c. 717, s. 51; 2012‑142, s. 25.02(c); 2013‑382, s. 9.1(c); 2016‑126, 4th Ex. Sess., s. 38.)\n",
      "§ 143B‑10.  Powers and duties of heads of principal departments.\n",
      "(a)\tAssignment of Functions. – Except as otherwise provided by this Chapter, the head of each principal State department may assign or reassign any function vested in him or in his department to any subordinate officer or employee of his department.\n",
      "(b)\tReorganization by Department Heads. – With the approval of the Governor, each head of a principal State department may establish or abolish within his department any division. Each head of a principal State department may establish or abolish within his department any other administrative unit to achieve economy and efficiency and in accordance with sound administrative principles, practices, and procedures except as otherwise provided by law. When any such act of the head of the principal State department affects existing law the provisions of Article III, Sec. 5(10) of the Constitution of North Carolina shall be followed.\n",
      "Each Department Head shall report all reorganizations under this subsection to the President of the Senate, the Speaker of the House of Representatives, the Chairmen of the Appropriations Committees in the Senate and the House of Representatives, and the Fiscal Research Division of the Legislative Services Office, within 30 days after the reorganization if the General Assembly is in session, otherwise to the Joint Legislative Committee on Governmental Operations and the Fiscal Research Division of the Legislative Services Office, within 30 days after the reorganization. The report shall include the rationale for the reorganization and any increased efficiency in operations expected from the reorganization.\n",
      "(c)\tDepartment Staffs. – The head of each principal State department may establish necessary subordinate positions within the department, make appointments to those positions, and remove persons appointed to those positions, all within the limitations of appropriations and subject to the State Budget Act and the North Carolina Human Resources Act. All employees within a principal State department shall be under the supervision, direction, and control of the head of that department. The head of each principal State department may establish or abolish positions, transfer officers and employees between positions, and change the duties, titles, and compensation of existing offices and positions as the head of the department deems necessary for the efficient functioning of the department, subject to the State Budget Act and the North Carolina Human Resources Act and the limitations of available appropriations. For the purposes of the foregoing provisions, a member of a board, commission, council, committee, or other citizen group shall not be considered an \"employee within a principal department.\" Nothing in this subsection shall be construed as authorizing the transfer of officers and employees between departments without express authorization of the General Assembly.\n",
      "(d)\tAppointment of Committees or Councils. – The head of each principal department may create and appoint committees or councils to consult with and advise the department. The General Assembly declares its policy that insofar as feasible, such committees or councils shall consist of no more than 12 members, with not more than one from each congressional district. If any department head desires to vary this policy, he must make a request in writing to the Governor, stating the reasons for the request. The Governor may approve the request, but may only do so in writing. Copies of the request and approval shall be transmitted to the Joint Legislative Commission on Governmental Operations. The members of any committee or council created by the head of a principal department shall serve at the pleasure of the head of the principal department and may be paid per diem and necessary travel and subsistence expenses within the limits of appropriations and in accordance with the provisions of G.S. 138‑5, when approved in advance by the Director of the Budget. Per diem, travel, and subsistence payments to members of the committees or councils created in connection with federal programs shall be paid from federal funds unless otherwise provided by law.\n",
      "An annual report listing these committees or councils, the total membership on each, the cost in the last 12 months and the source of funding, and the title of the person who made the appointments shall be made to the Joint Legislative Commission on Governmental Operations by March 31 of each year.\n",
      "(e)\tDepartmental Management Functions. – All management functions of a principal State department shall be performed by or under the direction and supervision of the head of that principal State department. Management functions shall include planning, organizing, staffing, directing, coordinating, reporting, and budgeting.\n",
      "(f)\tCustody of Records. – The head of a principal State department shall have legal custody of all public records as defined in G.S. 132‑1.\n",
      "(g)\tBudget Preparation. – The head of a principal State department shall be responsible for the preparation of and the presentation of the department budget request which shall include all funds requested and all receipts expected for all elements of the department.\n",
      "(h)\tPlans and Reports. – Each principal State department shall submit to the Governor an annual plan of work for the next fiscal year prior to the beginning of that fiscal year. Each principal State department shall submit to the Governor an annual report covering programs and activities for each fiscal year. These plans of work and annual reports shall be made available to the General Assembly. These documents will serve as the base for the development of budgets for each principal State department of State government to be submitted to the Governor.\n",
      "(i)\tReports to Governor; Public Hearings. – Each head of a principal State department shall develop and report to the Governor legislative, budgetary, and administrative programs to accomplish comprehensive, long‑range coordinated planning and policy formulation in the work of his department. To this end, the head of the department may hold public hearings, consult with and use the services of other State agencies, employ staff and consultants, and appoint advisory and technical committees to assist in the work.\n",
      "(j)\tDepartmental Rules and Policies. – The head of each principal State department and the Director of the Office of State Human Resources may adopt:\n",
      "(1)\tRules consistent with law for the custody, use, and preservation of any public records, as defined in G.S. 132‑1, which pertain to department business;\n",
      "(2)\tRules, approved by the Governor, to govern the management of the department, which shall include the functions of planning, organizing, staffing, directing, coordinating, reporting, budgeting, and budget preparation which affect private rights or procedures available to the public;\n",
      "(3)\tPolicies, consistent with law and with rules established by the Governor and with rules of the State Human Resources Commission, which reflect internal management procedures within the department. These may include policies governing the conduct of employees of the department, the distribution and performance of business and internal management procedures which do not affect private rights or procedures available to the public and which are listed in (e) of this section. Policies establishing qualifications for employment shall be adopted and filed pursuant to Chapter 150B of the General Statutes; all other policies under this subdivision shall not be adopted or filed pursuant to Chapter 150B of the General Statutes.\n",
      "Rules adopted under (1) and (2) of this subsection shall be subject to the provisions of Chapter 150B of the General Statutes.\n",
      "This subsection shall not be construed as a legislative grant of authority to an agency to make and promulgate rules concerning any policies and procedures other than as set forth herein.  (1973, c. 476, s. 10; c. 1416, ss. 1, 2; 1977, 2nd Sess., c. 1219, s. 46; 1983, c. 76, ss. 1, 2; c. 641, s. 8; c. 717, s. 78; 1985 (Reg. Sess., 1986), c. 955, ss. 97, 98; 1987, c. 738, s. 147; c. 827, s. 1; 1991 (Reg. Sess., 1992), c. 1038, s. 15; 2006‑203, s. 101; 2013‑382, s. 9.1(c); 2019‑250, s. 5.8.)\n",
      "§ 143B‑11.  Subunit nomenclature.\n",
      "(a)\tThe principal subunit of a department is a division.  Each division shall be headed by a director.\n",
      "(b)\tThe principal subunit of a division is a section.  Each section shall be headed by a chief.\n",
      "(c)\tIf further subdivision is necessary, sections may be divided into subunits which shall be known as branches and which shall be headed by heads, and branches may be divided into subunits which shall be known as units and which shall be headed by supervisors. (1973, c. 476, s. 11.)\n",
      "§ 143B‑12.  Internal organization of departments; allocation and reallocation of duties and functions; limitations.\n",
      "(a)\tThe Governor shall cause the administrative organization of each department to be examined periodically with a view to promoting economy, efficiency, and effectiveness. The Governor may assign and reassign the duties and functions of the executive branch among the principal State departments except as otherwise expressly provided by statute. When the changes affect existing law, they must be submitted to the General Assembly in accordance with Article III, Sec. 5(10) of the Constitution of North Carolina.\n",
      "(b)\tThe Governor shall report all transfers of departmental functions under this section to the President of the Senate, the Speaker of the House of Representatives, the Chairmen of the Appropriations Committees in the Senate and the House of Representatives, and the Fiscal Research Division of the Legislative Services Office, within 30 days after the transfer if the General Assembly is in session, otherwise to the Joint Legislative Committee on Governmental Operations and the Fiscal Research Division of the Legislative Services Office, within 30 days after the transfer. The report shall include the rationale for the transfer and the increased efficiency in operations expected from the transfer. (1973, c. 476, s. 12; 1985, c. 479, s. 164.)\n",
      "§ 143B‑13.  Appointment, qualifications, terms, and removal of members of commissions.\n",
      "(a)\tEach member of a commission created by or under the authority of the Executive Organization Act of 1973 shall be a resident of the State of North Carolina, unless otherwise specifically authorized by law.\n",
      "Unless more restrictive qualifications are provided in the Executive Organization Act of 1973, the Governor shall appoint each member on the basis of interest in public affairs, good judgment, knowledge, and ability in the field for which appointed, and with a view to providing diversity of interest and points of view in the membership.\n",
      "The balance of unexpired terms of existing commission members shall be served in accordance with their most recent appointment.\n",
      "A vacancy occurring during a term of office is filled in the same manner as the original appointment is made and for the balance of the unexpired term, unless otherwise provided by law or by the Constitution of North Carolina.\n",
      "(b)\tA commission membership becomes vacant on the happening of any of the following events before the expiration of the term: (i) the death of the incumbent, (ii) his incompetence as determined by final judgment or final order of a court of competent jurisdiction, (iii) his resignation, (iv) his removal from office, (v) his ceasing to be a resident of the State, (vi) his ceasing to discharge the duties of his office over a period of three consecutive months except when prevented by sickness, (vii) his conviction of a felony or of any offense involving a violation of his official duties, (viii) his refusal or neglect to take an oath within the time prescribed, (ix) the decision of a court of competent jurisdiction declaring void his appointment, and (x) his commitment as a substance abuser under Part 8 of Article 5 of Chapter 122C of the General Statutes; but in that event, the office shall not be considered vacant until the order of commitment has become final.\n",
      "(c)\tNo member of the State commission may use his position to influence any election or the political activity of any person, and any such member who violates this subsection may be removed from such office by the Governor, if such member was appointed by the Governor, or by the appointing authority, if such member was not appointed by the Governor. Nothing herein shall prohibit such member from publishing the fact of his membership in his own campaign for public office.\n",
      "(d)\tIn addition to the foregoing, any member of a commission may be removed from office by the Governor for misfeasance, malfeasance, and nonfeasance.\n",
      "(e)\tAny appointment by the Governor to a commission, board, council or committee made subsequent to January 5, 1973, and prior to July 1, 1973, for a term that would extend for a period inconsistent with the staggered term provisions of the Executive Organization Act of 1973, may be reduced by the Governor to conform to those staggered term provisions.\n",
      "(f)\tWhenever a statute requires that the Governor appoint at least one person from each congressional district to a board or commission, and due to congressional redistricting, two or more members of the board or commission shall reside in the same congressional district, then such members shall continue to serve as members of the board or commission for a period equal to the remainder of their unexpired terms, provided that upon the expiration of said term or terms the Governor shall fill such vacancy or vacancies in such a manner as to insure that as expeditiously as possible there is one member of the board or commission who is a resident of each congressional district in the State.\n",
      "(f1)\tWhenever a statute requires that the Governor or any board, commission, council, person, or agency (whether or not that board, commission, council, or agency was established under this Chapter) appoint one or more persons from each congressional district to a board, commission, or council, and due to congressional redistricting, a person no longer resides in the district the member has been appointed to represent, such member or members shall, if otherwise qualified, continue to serve as members of the board or commission for the remainder of their unexpired terms, and shall be considered to meet the residency requirement.\n",
      "(f2)\tWhenever a statute requires that the Governor or any board, commission, council, person, or agency (whether or not that board, commission, council, or agency was established under this Chapter) appoint one or more persons from each congressional district to a board, commission, or council, and the statute fails to provide for a procedure to fill the extra position due to the addition of an additional congressional district, then the appointing authority shall appoint a person for a term commencing on January 3rd of the year in which the addition of the additional congressional district becomes effective. Unless the statute provides for persons to serve at the pleasure of the appointing authority, the appointing authority shall set the length of the initial term of office. (1973, c. 476, s. 13; 1975, c. 879, s. 47; 1981, c. 520, s. 1; 1981 (Reg. Sess., 1982), c. 1191, s. 5; 1985, c. 589, ss. 45, 46; 1991 (Reg. Sess., 1992), c. 1038, s. 16.)\n",
      "§ 143B‑14.  Administrative services to commissions.\n",
      "(a)\tThe head of the principal State department to which a commission has been assigned is responsible for the provision of all administrative services to the commission.\n",
      "(b)\tExcept as otherwise provided by law, the powers, duties, and functions of a commission are not subject to the approval, review, or control of the head of the department or of the Governor.\n",
      "(c)\tThe Governor may assign to an appropriate commission created by the Executive Organization Act of 1973 duties of a quasi‑legislative and quasi‑judicial nature existing in the executive branch of State government which have not been assigned by this Chapter to any other commission. All such assignment of duties by the Governor to a commission shall be made in accordance with Article III, Sec. 5(10) of the Constitution of North Carolina.\n",
      "(d)\tAll management functions of a commission shall be performed by the head of the principal State department. Management functions shall include planning, organizing, staffing, directing, coordinating, reporting, and budgeting. (1973, c. 476, s. 14; c. 1416, s. 3; 1979, 2nd Sess., c. 1137, s. 41.2; 1981, c. 688, s. 20; 1983, c. 927, s. 11; 1987, c. 827, s. 221; 1991, c. 418, s. 9.)\n",
      "§ 143B‑15.  Compensation of members of commissions.\n",
      "The salary of members of full‑time commissions shall be set by the General Assembly upon recommendation of the Governor to be submitted as a part of his budget requests. (1973, c. 476, s. 15.)\n",
      "§ 143B‑16.  Appointment and removal of members of boards, councils and committees.\n",
      "Unless more restrictive qualifications are provided in this Chapter, the Governor shall appoint each member of a board, council, or committee on the basis of his interest in public affairs, good judgment, knowledge and ability in the field for which appointed, and with a view to providing diversity of interest and points of view in the membership. Unless other conditions are provided in the Executive Organization Act of 1973, any member of a board, council, or committee may be removed from office by the Governor for misfeasance, malfeasance, or nonfeasance.\n",
      "No member of a board, council, or committee may use his position to influence any election or the political activity of any person, and any such member who violates this paragraph may be removed from such office by the Governor, if such member was appointed by the Governor, or by the appointing authority, if such member was not appointed by the Governor. Nothing herein shall prohibit such member from publishing the fact of his membership in his own campaign for public office. (1973, c. 476, s. 16; 1981, c. 520, s. 2.)\n",
      "§ 143B‑17.  Commission investigations and orders.\n",
      "Unless otherwise provided for in the Executive Organization Act of 1973, any commission created by the Executive Organization Act of 1973 may order an investigation into areas of concern over which it has rule‑making authority, and the head of the department required to give staff support to such commission shall render such reports and information as the commission may require. In default of the production of information by the head of the principal department or any employee or agent thereof, the commission may seek the aid of the  Wake County Superior Court to require the production of information as hereinafter provided.\n",
      "In proceedings before any commission or any hearing officer or member of the commission so authorized by the commission, if any person refuses to respond to a subpoena, or refuses to take the oath or affirmation as a witness or thereafter refuses to be examined or refuses to obey any lawful order of a commission contained in its decision rendered after hearing, the chairman of the commission may apply to the Superior Court of Wake County or to the superior court of the county where the proceedings are being held for an order directing that person to take the requisite action. Should any person willfully  fail to comply with an order so issued, the court shall punish him as  for contempt. (1973, c. 476, s. 17.)\n",
      "§ 143B‑18:  Repealed by Session Laws 1991, c.  418, s. 10.\n",
      "§ 143B‑19.  Pending actions and proceedings.\n",
      "No action or proceeding pending at the time the Executive Organization Act of 1973 takes effect and brought by or against any State agency whose functions, powers, and duties are transferred by the Executive Organization Act of 1973 to a principal State department shall be affected by any provision of the Executive Organization Act of 1973, but the same may be prosecuted or defended in the name of the head of the principal State department. In all such actions and proceedings, the principal State department to which the functions, powers, and duties of a State agency have been transferred shall be substituted as a party upon appropriate application to the courts. (1973, c. 476, s. 19.)\n",
      "§ 143B‑20:  Repealed by Session Laws 1991, c.  418, s. 10.\n"
     ]
    }
   ],
   "source": [
    "for item in df[\"content\"].tolist():\n",
    "    print(item)"
   ]
  },
  {
   "cell_type": "code",
   "execution_count": null,
   "id": "f3686818-0115-43cd-a75f-93e91ce43c28",
   "metadata": {},
   "outputs": [],
   "source": []
  },
  {
   "cell_type": "code",
   "execution_count": 120,
   "id": "cbdffe0c-3037-4926-802f-e8e2026fc6fe",
   "metadata": {},
   "outputs": [],
   "source": [
    "search = \"traffic stops\"\n",
    "search_embedding = model.encode(search)"
   ]
  },
  {
   "cell_type": "code",
   "execution_count": 123,
   "id": "cb42fce6-021d-49c1-ae75-fea2df1bd43e",
   "metadata": {},
   "outputs": [
    {
     "data": {
      "text/html": [
       "<div>\n",
       "<style scoped>\n",
       "    .dataframe tbody tr th:only-of-type {\n",
       "        vertical-align: middle;\n",
       "    }\n",
       "\n",
       "    .dataframe tbody tr th {\n",
       "        vertical-align: top;\n",
       "    }\n",
       "\n",
       "    .dataframe thead th {\n",
       "        text-align: right;\n",
       "    }\n",
       "</style>\n",
       "<table border=\"1\" class=\"dataframe\">\n",
       "  <thead>\n",
       "    <tr style=\"text-align: right;\">\n",
       "      <th></th>\n",
       "      <th>statute</th>\n",
       "      <th>content</th>\n",
       "      <th>nearest</th>\n",
       "    </tr>\n",
       "  </thead>\n",
       "  <tbody>\n",
       "    <tr>\n",
       "      <th>0</th>\n",
       "      <td>20-158</td>\n",
       "      <td>§ 20‑158.  Vehicle control signs and signals.\\...</td>\n",
       "      <td>0.454330</td>\n",
       "    </tr>\n",
       "    <tr>\n",
       "      <th>1</th>\n",
       "      <td>20-217</td>\n",
       "      <td>§ 20‑217.  Motor vehicles to stop for properly...</td>\n",
       "      <td>0.461436</td>\n",
       "    </tr>\n",
       "    <tr>\n",
       "      <th>2</th>\n",
       "      <td>20-161</td>\n",
       "      <td>§ 20‑161.  Stopping on highway prohibited; war...</td>\n",
       "      <td>0.494937</td>\n",
       "    </tr>\n",
       "    <tr>\n",
       "      <th>3</th>\n",
       "      <td>20-142</td>\n",
       "      <td>§ 20‑142.3.  Certain vehicles must stop at rai...</td>\n",
       "      <td>0.499138</td>\n",
       "    </tr>\n",
       "    <tr>\n",
       "      <th>4</th>\n",
       "      <td>20-142</td>\n",
       "      <td>§ 20‑142.5.  Stop when traffic obstructed.\\nNo...</td>\n",
       "      <td>0.536066</td>\n",
       "    </tr>\n",
       "    <tr>\n",
       "      <th>...</th>\n",
       "      <td>...</td>\n",
       "      <td>...</td>\n",
       "      <td>...</td>\n",
       "    </tr>\n",
       "    <tr>\n",
       "      <th>8107</th>\n",
       "      <td>15-145</td>\n",
       "      <td>§ 15‑145.  Form of bill for perjury.\\nIn every...</td>\n",
       "      <td>1.117534</td>\n",
       "    </tr>\n",
       "    <tr>\n",
       "      <th>8108</th>\n",
       "      <td>28A-21-5</td>\n",
       "      <td>§ 28A‑21‑5.  Vouchers presumptive evidence.\\nV...</td>\n",
       "      <td>1.117835</td>\n",
       "    </tr>\n",
       "    <tr>\n",
       "      <th>8109</th>\n",
       "      <td>10B-102</td>\n",
       "      <td>§ 10B‑102.  (Effective until July 1, 2024) Sco...</td>\n",
       "      <td>1.121110</td>\n",
       "    </tr>\n",
       "    <tr>\n",
       "      <th>8110</th>\n",
       "      <td>10B-134</td>\n",
       "      <td>§ 10B‑134.11.  (Effective July 1, 2024) Verifi...</td>\n",
       "      <td>1.121283</td>\n",
       "    </tr>\n",
       "    <tr>\n",
       "      <th>8111</th>\n",
       "      <td>15-150</td>\n",
       "      <td>§ 15‑150.  Description in bill for embezzlemen...</td>\n",
       "      <td>1.127492</td>\n",
       "    </tr>\n",
       "  </tbody>\n",
       "</table>\n",
       "<p>8112 rows × 3 columns</p>\n",
       "</div>"
      ],
      "text/plain": [
       "       statute                                            content   nearest\n",
       "0       20-158  § 20‑158.  Vehicle control signs and signals.\\...  0.454330\n",
       "1       20-217  § 20‑217.  Motor vehicles to stop for properly...  0.461436\n",
       "2       20-161  § 20‑161.  Stopping on highway prohibited; war...  0.494937\n",
       "3       20-142  § 20‑142.3.  Certain vehicles must stop at rai...  0.499138\n",
       "4       20-142  § 20‑142.5.  Stop when traffic obstructed.\\nNo...  0.536066\n",
       "...        ...                                                ...       ...\n",
       "8107    15-145  § 15‑145.  Form of bill for perjury.\\nIn every...  1.117534\n",
       "8108  28A-21-5  § 28A‑21‑5.  Vouchers presumptive evidence.\\nV...  1.117835\n",
       "8109   10B-102  § 10B‑102.  (Effective until July 1, 2024) Sco...  1.121110\n",
       "8110   10B-134  § 10B‑134.11.  (Effective July 1, 2024) Verifi...  1.121283\n",
       "8111    15-150  § 15‑150.  Description in bill for embezzlemen...  1.127492\n",
       "\n",
       "[8112 rows x 3 columns]"
      ]
     },
     "execution_count": 123,
     "metadata": {},
     "output_type": "execute_result"
    }
   ],
   "source": [
    "search_df = pd.read_sql(\n",
    "    f\"\"\"\n",
    "    SELECT\n",
    "        statute\n",
    "        , content\n",
    "        , content_embedding <=> %(search_embedding)s AS nearest\n",
    "    FROM statutes\n",
    "    ORDER BY content_embedding <=> %(search_embedding)s ASC\n",
    "    \"\"\",\n",
    "    pg_engine,\n",
    "    params={'search_embedding': search_embedding}\n",
    ")\n",
    "search_df"
   ]
  },
  {
   "cell_type": "code",
   "execution_count": null,
   "id": "814f01b3-3daf-4818-a27a-5ea96f5c84d1",
   "metadata": {},
   "outputs": [],
   "source": []
  },
  {
   "cell_type": "code",
   "execution_count": null,
   "id": "be77e373-01af-4524-a764-f23c750f7446",
   "metadata": {},
   "outputs": [],
   "source": []
  },
  {
   "cell_type": "code",
   "execution_count": null,
   "id": "4169ba93-05fb-485d-9eff-2cdb7adfceae",
   "metadata": {},
   "outputs": [],
   "source": []
  },
  {
   "cell_type": "code",
   "execution_count": 66,
   "id": "61116f5b-02a5-4435-8a84-481a8d4ea42a",
   "metadata": {},
   "outputs": [
    {
     "data": {
      "text/plain": [
       "'/EnactedLegislation/Statutes/HTML/BySection/Chapter_143B/GS_143B-2.html'"
      ]
     },
     "execution_count": 66,
     "metadata": {},
     "output_type": "execute_result"
    }
   ],
   "source": [
    "sections[1].get(\"href\")"
   ]
  },
  {
   "cell_type": "code",
   "execution_count": 51,
   "id": "e5f73270-6636-46f9-a821-7aac1b337523",
   "metadata": {},
   "outputs": [
    {
     "data": {
      "text/plain": [
       "'Short title'"
      ]
     },
     "execution_count": 51,
     "metadata": {},
     "output_type": "execute_result"
    }
   ],
   "source": [
    "SECTION_TITLE_RE = re.compile(r\"([\\w ]+)\\.$\")\n",
    "\n",
    "row = sections[0].find_parent(\"div\", class_=\"row\")\n",
    "title_tag = row.select_one('div.row').select('a')[1]\n",
    "section_title = SECTION_TITLE_RE.search(title_tag.text).group(1).strip()"
   ]
  },
  {
   "cell_type": "code",
   "execution_count": 56,
   "id": "adf826e2-5f12-4461-b6bd-f6b2dea9e39d",
   "metadata": {
    "collapsed": true,
    "jupyter": {
     "outputs_hidden": true
    },
    "scrolled": true
   },
   "outputs": [
    {
     "data": {
      "text/plain": [
       "[{'raw_html': '<!DOCTYPE html PUBLIC \"-//W3C//DTD XHTML 1.0 Transitional//EN\" \"http://www.w3.org/TR/xhtml1/DTD/xhtml1-transitional.dtd\">\\n\\n<html xmlns=\"http://www.w3.org/1999/xhtml\">\\n<head>\\n<meta content=\"text/html; charset=utf-8\" http-equiv=\"Content-Type\"/><title>\\n</title>\\n<style type=\"text/css\">\\r\\n\\t\\t\\t.cs258DCD3C{text-align:center;text-indent:0pt;margin:0pt 0pt 6pt 0pt}\\r\\n\\t\\t\\t.cs102784{color:#000000;background-color:transparent;font-family:\\'Times New Roman\\';font-size:12pt;font-weight:bold;font-style:normal;}\\r\\n\\t\\t\\t.cs23FB0664{color:#000000;background-color:transparent;font-family:\\'Times New Roman\\';font-size:12pt;font-weight:normal;font-style:normal;}\\r\\n\\t\\t\\t.csF31EE8DA{text-align:justify;text-indent:-54pt;margin:0pt 0pt 0pt 54pt}\\r\\n\\t\\t\\t.cs40666F14{text-align:justify;text-indent:18pt;margin:0pt 0pt 0pt 0pt}\\r\\n\\t\\t\\t.cs4A4384B5{color:#000000;background-color:transparent;font-family:\\'Microsoft Sans Serif\\';font-size:12pt;font-weight:normal;font-style:normal;}\\r\\n\\t\\t</style>\\n</head>\\n<body>\\n<h3 class=\"cs258DCD3C\">\\n<a name=\"GSDocumentHeader\"><span class=\"cs102784\">Chapter 143B. </span></a></h3>\\n<h3 class=\"cs258DCD3C\">\\n<span class=\"cs102784\">Executive Organization Act of 1973. </span></h3>\\n<p class=\"cs258DCD3C\"><span class=\"cs23FB0664\">Article 1.</span></p><p class=\"cs258DCD3C\"><span class=\"cs23FB0664\">General Provisions.</span></p><h6 class=\"cs258DCD3C\">\\n<span class=\"cs23FB0664\">Part 1. \\xa0In General.</span></h6>\\n<p class=\"csF31EE8DA\"><span class=\"cs102784\">§ 143B‑1. \\xa0Short title.</span></p><p class=\"cs40666F14\" style=\"tab-stops:left 54pt;\"><span class=\"cs23FB0664\">This Chapter shall be known and may be cited as the \"Executive Organization Act of 1973.\" </span><a name=\"HistoryNote\"><span class=\"cs4A4384B5\">(1973, c. 476, s. 1.)</span></a></p></body>\\n</html>\\n',\n",
       "  'statute': '143B-1',\n",
       "  'content': 'Article 1.\\nGeneral Provisions.\\n§ 143B‑1. \\xa0Short title.\\nThis Chapter shall be known and may be cited as the \"Executive Organization Act of 1973.\" (1973, c. 476, s. 1.)',\n",
       "  'chapter_number': '143B',\n",
       "  'chapter_name': 'Executive Organization Act of 1973',\n",
       "  'section_name': 'Short title'},\n",
       " {'raw_html': '<!DOCTYPE html PUBLIC \"-//W3C//DTD XHTML 1.0 Transitional//EN\" \"http://www.w3.org/TR/xhtml1/DTD/xhtml1-transitional.dtd\">\\n\\n<html xmlns=\"http://www.w3.org/1999/xhtml\">\\n<head>\\n<meta content=\"text/html; charset=utf-8\" http-equiv=\"Content-Type\"/><title>\\n</title>\\n<style type=\"text/css\">\\r\\n\\t\\t\\t.csF31EE8DA{text-align:justify;text-indent:-54pt;margin:0pt 0pt 0pt 54pt}\\r\\n\\t\\t\\t.cs102784{color:#000000;background-color:transparent;font-family:\\'Times New Roman\\';font-size:12pt;font-weight:bold;font-style:normal;}\\r\\n\\t\\t\\t.cs40666F14{text-align:justify;text-indent:18pt;margin:0pt 0pt 0pt 0pt}\\r\\n\\t\\t\\t.cs23FB0664{color:#000000;background-color:transparent;font-family:\\'Times New Roman\\';font-size:12pt;font-weight:normal;font-style:normal;}\\r\\n\\t\\t\\t.cs27639716{text-align:justify;text-indent:-36pt;margin:0pt 0pt 0pt 90pt}\\r\\n\\t\\t</style>\\n</head>\\n<body>\\n<p class=\"csF31EE8DA\"><span class=\"cs102784\">§ 143B‑2. \\xa0Interim applicability of the Executive Organization Act of 1973.</span></p><p class=\"cs40666F14\" style=\"tab-stops:left 54pt;\"><span class=\"cs23FB0664\">The Executive Organization Act of 1973 shall be applicable only to the following named departments:</span></p><p class=\"cs27639716\"><span class=\"cs23FB0664\">(1)\\tDepartment of Natural and Cultural Resources.</span></p><p class=\"cs27639716\"><span class=\"cs23FB0664\">(2)\\tDepartment of Health and Human Services.</span></p><p class=\"cs27639716\"><span class=\"cs23FB0664\">(3)\\tDepartment of Revenue.</span></p><p class=\"cs27639716\"><span class=\"cs23FB0664\">(4)\\tDepartment of Public Safety.</span></p><p class=\"cs27639716\"><span class=\"cs23FB0664\">(5)\\tRepealed by Session Laws 2012‑83, s. 47, effective June 26, 2012.</span></p><p class=\"cs27639716\"><span class=\"cs23FB0664\">(6)\\tDepartment of Environmental Quality.</span></p><p class=\"cs27639716\"><span class=\"cs23FB0664\">(7)\\tDepartment of Transportation.</span></p><p class=\"cs27639716\"><span class=\"cs23FB0664\">(8)\\tDepartment of Administration.</span></p><p class=\"cs27639716\"><span class=\"cs23FB0664\">(9)\\tDepartment of Commerce.</span></p><p class=\"cs27639716\"><span class=\"cs23FB0664\">(10)\\tRepealed by Session Laws 2012‑83, s. 47, effective June 26, 2012.</span></p><p class=\"cs27639716\"><span class=\"cs23FB0664\">(11)\\tDepartment of Information Technology.</span></p><p class=\"cs27639716\"><span class=\"cs23FB0664\">(12)\\tDepartment of Adult Correction.  (1973, c. 476, s. 2; c. 620, s. 9; c. 1262, ss. 10, 86; 1975, c. 716, s. 5; c. 879, s. 46; 1977, c. 70, s. 22; c. 198, s. 21; c. 771, s. 4; 1989, c. 727, s. 218(121); c. 751, s. 7(18); 1991 (Reg. Sess., 1992), c. 959, s. 37; 1997‑443, ss. 11A.118(a), 11A.119(a); 2000‑137, s. 4(ll); 2011‑145, s. 19.1(g), (h), (l); 2012‑83, s. 47; 2015‑241, ss. 7A.1(c), 14.30(s), (u); 2021‑180, s. 19C.9(d).)</span></p></body>\\n</html>\\n',\n",
       "  'statute': '143B-2',\n",
       "  'content': '§ 143B‑2. \\xa0Interim applicability of the Executive Organization Act of 1973.\\nThe Executive Organization Act of 1973 shall be applicable only to the following named departments:\\n(1)\\tDepartment of Natural and Cultural Resources.\\n(2)\\tDepartment of Health and Human Services.\\n(3)\\tDepartment of Revenue.\\n(4)\\tDepartment of Public Safety.\\n(5)\\tRepealed by Session Laws 2012‑83, s. 47, effective June 26, 2012.\\n(6)\\tDepartment of Environmental Quality.\\n(7)\\tDepartment of Transportation.\\n(8)\\tDepartment of Administration.\\n(9)\\tDepartment of Commerce.\\n(10)\\tRepealed by Session Laws 2012‑83, s. 47, effective June 26, 2012.\\n(11)\\tDepartment of Information Technology.\\n(12)\\tDepartment of Adult Correction.  (1973, c. 476, s. 2; c. 620, s. 9; c. 1262, ss. 10, 86; 1975, c. 716, s. 5; c. 879, s. 46; 1977, c. 70, s. 22; c. 198, s. 21; c. 771, s. 4; 1989, c. 727, s. 218(121); c. 751, s. 7(18); 1991 (Reg. Sess., 1992), c. 959, s. 37; 1997‑443, ss. 11A.118(a), 11A.119(a); 2000‑137, s. 4(ll); 2011‑145, s. 19.1(g), (h), (l); 2012‑83, s. 47; 2015‑241, ss. 7A.1(c), 14.30(s), (u); 2021‑180, s. 19C.9(d).)',\n",
       "  'chapter_number': '143B',\n",
       "  'chapter_name': 'Executive Organization Act of 1973',\n",
       "  'section_name': 'Interim applicability of the Executive Organization Act of 1973'}]"
      ]
     },
     "execution_count": 56,
     "metadata": {},
     "output_type": "execute_result"
    }
   ],
   "source": [
    "list(scrape_sections(soup))"
   ]
  },
  {
   "cell_type": "code",
   "execution_count": 68,
   "id": "62311767-8aca-4cab-9e8a-fe8eb83e6629",
   "metadata": {},
   "outputs": [
    {
     "name": "stdout",
     "output_type": "stream",
     "text": [
      "CPU times: user 1.02 s, sys: 36.1 ms, total: 1.06 s\n",
      "Wall time: 18.5 s\n"
     ]
    },
    {
     "data": {
      "text/plain": [
       "[{'raw_html': '<!DOCTYPE html PUBLIC \"-//W3C//DTD XHTML 1.0 Transitional//EN\" \"http://www.w3.org/TR/xhtml1/DTD/xhtml1-transitional.dtd\">\\n\\n<html xmlns=\"http://www.w3.org/1999/xhtml\">\\n<head>\\n<meta content=\"text/html; charset=utf-8\" http-equiv=\"Content-Type\"/><title>\\n</title>\\n<style type=\"text/css\">\\r\\n\\t\\t\\t.cs258DCD3C{text-align:center;text-indent:0pt;margin:0pt 0pt 6pt 0pt}\\r\\n\\t\\t\\t.cs102784{color:#000000;background-color:transparent;font-family:\\'Times New Roman\\';font-size:12pt;font-weight:bold;font-style:normal;}\\r\\n\\t\\t\\t.cs23FB0664{color:#000000;background-color:transparent;font-family:\\'Times New Roman\\';font-size:12pt;font-weight:normal;font-style:normal;}\\r\\n\\t\\t\\t.csF31EE8DA{text-align:justify;text-indent:-54pt;margin:0pt 0pt 0pt 54pt}\\r\\n\\t\\t\\t.cs40666F14{text-align:justify;text-indent:18pt;margin:0pt 0pt 0pt 0pt}\\r\\n\\t\\t\\t.cs4A4384B5{color:#000000;background-color:transparent;font-family:\\'Microsoft Sans Serif\\';font-size:12pt;font-weight:normal;font-style:normal;}\\r\\n\\t\\t</style>\\n</head>\\n<body>\\n<h3 class=\"cs258DCD3C\">\\n<a name=\"GSDocumentHeader\"><span class=\"cs102784\">Chapter 143B. </span></a></h3>\\n<h3 class=\"cs258DCD3C\">\\n<span class=\"cs102784\">Executive Organization Act of 1973. </span></h3>\\n<p class=\"cs258DCD3C\"><span class=\"cs23FB0664\">Article 1.</span></p><p class=\"cs258DCD3C\"><span class=\"cs23FB0664\">General Provisions.</span></p><h6 class=\"cs258DCD3C\">\\n<span class=\"cs23FB0664\">Part 1. \\xa0In General.</span></h6>\\n<p class=\"csF31EE8DA\"><span class=\"cs102784\">§ 143B‑1. \\xa0Short title.</span></p><p class=\"cs40666F14\" style=\"tab-stops:left 54pt;\"><span class=\"cs23FB0664\">This Chapter shall be known and may be cited as the \"Executive Organization Act of 1973.\" </span><a name=\"HistoryNote\"><span class=\"cs4A4384B5\">(1973, c. 476, s. 1.)</span></a></p></body>\\n</html>\\n',\n",
       "  'statute': '143B-1',\n",
       "  'content': 'Article 1.\\nGeneral Provisions.\\n§ 143B‑1. \\xa0Short title.\\nThis Chapter shall be known and may be cited as the \"Executive Organization Act of 1973.\" (1973, c. 476, s. 1.)',\n",
       "  'chapter_number': '143B',\n",
       "  'chapter_name': 'Executive Organization Act of 1973',\n",
       "  'section_name': 'Short title',\n",
       "  'url': 'https://www.ncleg.gov/EnactedLegislation/Statutes/HTML/BySection/Chapter_143B/GS_143B-1.html'},\n",
       " {'raw_html': '<!DOCTYPE html PUBLIC \"-//W3C//DTD XHTML 1.0 Transitional//EN\" \"http://www.w3.org/TR/xhtml1/DTD/xhtml1-transitional.dtd\">\\n\\n<html xmlns=\"http://www.w3.org/1999/xhtml\">\\n<head>\\n<meta content=\"text/html; charset=utf-8\" http-equiv=\"Content-Type\"/><title>\\n</title>\\n<style type=\"text/css\">\\r\\n\\t\\t\\t.csF31EE8DA{text-align:justify;text-indent:-54pt;margin:0pt 0pt 0pt 54pt}\\r\\n\\t\\t\\t.cs102784{color:#000000;background-color:transparent;font-family:\\'Times New Roman\\';font-size:12pt;font-weight:bold;font-style:normal;}\\r\\n\\t\\t\\t.cs40666F14{text-align:justify;text-indent:18pt;margin:0pt 0pt 0pt 0pt}\\r\\n\\t\\t\\t.cs23FB0664{color:#000000;background-color:transparent;font-family:\\'Times New Roman\\';font-size:12pt;font-weight:normal;font-style:normal;}\\r\\n\\t\\t\\t.cs27639716{text-align:justify;text-indent:-36pt;margin:0pt 0pt 0pt 90pt}\\r\\n\\t\\t</style>\\n</head>\\n<body>\\n<p class=\"csF31EE8DA\"><span class=\"cs102784\">§ 143B‑2. \\xa0Interim applicability of the Executive Organization Act of 1973.</span></p><p class=\"cs40666F14\" style=\"tab-stops:left 54pt;\"><span class=\"cs23FB0664\">The Executive Organization Act of 1973 shall be applicable only to the following named departments:</span></p><p class=\"cs27639716\"><span class=\"cs23FB0664\">(1)\\tDepartment of Natural and Cultural Resources.</span></p><p class=\"cs27639716\"><span class=\"cs23FB0664\">(2)\\tDepartment of Health and Human Services.</span></p><p class=\"cs27639716\"><span class=\"cs23FB0664\">(3)\\tDepartment of Revenue.</span></p><p class=\"cs27639716\"><span class=\"cs23FB0664\">(4)\\tDepartment of Public Safety.</span></p><p class=\"cs27639716\"><span class=\"cs23FB0664\">(5)\\tRepealed by Session Laws 2012‑83, s. 47, effective June 26, 2012.</span></p><p class=\"cs27639716\"><span class=\"cs23FB0664\">(6)\\tDepartment of Environmental Quality.</span></p><p class=\"cs27639716\"><span class=\"cs23FB0664\">(7)\\tDepartment of Transportation.</span></p><p class=\"cs27639716\"><span class=\"cs23FB0664\">(8)\\tDepartment of Administration.</span></p><p class=\"cs27639716\"><span class=\"cs23FB0664\">(9)\\tDepartment of Commerce.</span></p><p class=\"cs27639716\"><span class=\"cs23FB0664\">(10)\\tRepealed by Session Laws 2012‑83, s. 47, effective June 26, 2012.</span></p><p class=\"cs27639716\"><span class=\"cs23FB0664\">(11)\\tDepartment of Information Technology.</span></p><p class=\"cs27639716\"><span class=\"cs23FB0664\">(12)\\tDepartment of Adult Correction.  (1973, c. 476, s. 2; c. 620, s. 9; c. 1262, ss. 10, 86; 1975, c. 716, s. 5; c. 879, s. 46; 1977, c. 70, s. 22; c. 198, s. 21; c. 771, s. 4; 1989, c. 727, s. 218(121); c. 751, s. 7(18); 1991 (Reg. Sess., 1992), c. 959, s. 37; 1997‑443, ss. 11A.118(a), 11A.119(a); 2000‑137, s. 4(ll); 2011‑145, s. 19.1(g), (h), (l); 2012‑83, s. 47; 2015‑241, ss. 7A.1(c), 14.30(s), (u); 2021‑180, s. 19C.9(d).)</span></p></body>\\n</html>\\n',\n",
       "  'statute': '143B-2',\n",
       "  'content': '§ 143B‑2. \\xa0Interim applicability of the Executive Organization Act of 1973.\\nThe Executive Organization Act of 1973 shall be applicable only to the following named departments:\\n(1)\\tDepartment of Natural and Cultural Resources.\\n(2)\\tDepartment of Health and Human Services.\\n(3)\\tDepartment of Revenue.\\n(4)\\tDepartment of Public Safety.\\n(5)\\tRepealed by Session Laws 2012‑83, s. 47, effective June 26, 2012.\\n(6)\\tDepartment of Environmental Quality.\\n(7)\\tDepartment of Transportation.\\n(8)\\tDepartment of Administration.\\n(9)\\tDepartment of Commerce.\\n(10)\\tRepealed by Session Laws 2012‑83, s. 47, effective June 26, 2012.\\n(11)\\tDepartment of Information Technology.\\n(12)\\tDepartment of Adult Correction.  (1973, c. 476, s. 2; c. 620, s. 9; c. 1262, ss. 10, 86; 1975, c. 716, s. 5; c. 879, s. 46; 1977, c. 70, s. 22; c. 198, s. 21; c. 771, s. 4; 1989, c. 727, s. 218(121); c. 751, s. 7(18); 1991 (Reg. Sess., 1992), c. 959, s. 37; 1997‑443, ss. 11A.118(a), 11A.119(a); 2000‑137, s. 4(ll); 2011‑145, s. 19.1(g), (h), (l); 2012‑83, s. 47; 2015‑241, ss. 7A.1(c), 14.30(s), (u); 2021‑180, s. 19C.9(d).)',\n",
       "  'chapter_number': '143B',\n",
       "  'chapter_name': 'Executive Organization Act of 1973',\n",
       "  'section_name': 'Interim applicability of the Executive Organization Act of 1973',\n",
       "  'url': 'https://www.ncleg.gov/EnactedLegislation/Statutes/HTML/BySection/Chapter_143B/GS_143B-2.html'}]"
      ]
     },
     "execution_count": 68,
     "metadata": {},
     "output_type": "execute_result"
    }
   ],
   "source": [
    "%%time\n",
    "\n",
    "all_sections = scrape_chapters()\n",
    "all_sections"
   ]
  },
  {
   "cell_type": "code",
   "execution_count": 58,
   "id": "234663ee-d78b-463e-852e-cd0db40c6d6b",
   "metadata": {},
   "outputs": [],
   "source": [
    "all_sections"
   ]
  },
  {
   "cell_type": "code",
   "execution_count": 96,
   "id": "07f795f3-2ffe-4d23-b007-b2a06f4249b1",
   "metadata": {
    "scrolled": true
   },
   "outputs": [],
   "source": [
    "sections = soup.select(\"div#chapter div.row a[href*=BySection][href*=HTML]\")"
   ]
  },
  {
   "cell_type": "code",
   "execution_count": 93,
   "id": "acc50bb8-f225-41a0-ab4e-9d6055f41deb",
   "metadata": {},
   "outputs": [],
   "source": [
    "section = sections[0]"
   ]
  },
  {
   "cell_type": "code",
   "execution_count": 135,
   "id": "74a030d1-1326-4c38-8094-eb121940c306",
   "metadata": {},
   "outputs": [],
   "source": []
  },
  {
   "cell_type": "code",
   "execution_count": 138,
   "id": "38fcb67c-bb4e-48b3-8e59-3bff614c77a5",
   "metadata": {},
   "outputs": [
    {
     "data": {
      "text/plain": [
       "{'raw_html': '<!DOCTYPE html PUBLIC \"-//W3C//DTD XHTML 1.0 Transitional//EN\" \"http://www.w3.org/TR/xhtml1/DTD/xhtml1-transitional.dtd\">\\n\\n<html xmlns=\"http://www.w3.org/1999/xhtml\">\\n<head>\\n<meta content=\"text/html; charset=utf-8\" http-equiv=\"Content-Type\"/><title>\\n</title>\\n<style type=\"text/css\">\\r\\n\\t\\t\\t.csF31EE8DA{text-align:justify;text-indent:-54pt;margin:0pt 0pt 0pt 54pt}\\r\\n\\t\\t\\t.cs102784{color:#000000;background-color:transparent;font-family:\\'Times New Roman\\';font-size:12pt;font-weight:bold;font-style:normal;}\\r\\n\\t\\t\\t.cs40666F14{text-align:justify;text-indent:18pt;margin:0pt 0pt 0pt 0pt}\\r\\n\\t\\t\\t.cs23FB0664{color:#000000;background-color:transparent;font-family:\\'Times New Roman\\';font-size:12pt;font-weight:normal;font-style:normal;}\\r\\n\\t\\t</style>\\n</head>\\n<body>\\n<p class=\"csF31EE8DA\"><span class=\"cs102784\">§ 143B‑53.1. \\xa0Appropriation, allotment, and expenditure of funds for historic and archeological property.</span></p><p class=\"cs40666F14\" style=\"tab-stops:left 54pt;\"><span class=\"cs23FB0664\">The Department of Natural and Cultural Resources may not expend any State funds for the acquisition, preservation, restoration, or operation of historic or archeological real and personal property, and the Director of the Budget may not allot any appropriations to the Department of Natural and Cultural Resources for a particular historic site until (i) the property or properties shall have been approved for such purpose by the Department of Natural and Cultural Resources according to criteria adopted by the North Carolina Historical Commission, (ii) the report and recommendation of the North Carolina Historical Commission has been received and considered by the Department of Natural and Cultural Resources, and (iii) the Department of Natural and Cultural Resources has found that there is a feasible and practical method of providing funds for the acquisition, restoration and/or operation of such property.  (1963, c. 210, s. 3; 1973, c. 476, s. 48; 1985 (Reg. Sess; 1986), c. 1014, s. 171(e); 2006‑203, s. 7; 2015‑241, s. 14.30(s).)</span></p></body>\\n</html>\\n',\n",
       " 'statute': '143B-53',\n",
       " 'content': '§ 143B‑53.1. \\xa0Appropriation, allotment, and expenditure of funds for historic and archeological property.\\nThe Department of Natural and Cultural Resources may not expend any State funds for the acquisition, preservation, restoration, or operation of historic or archeological real and personal property, and the Director of the Budget may not allot any appropriations to the Department of Natural and Cultural Resources for a particular historic site until (i) the property or properties shall have been approved for such purpose by the Department of Natural and Cultural Resources according to criteria adopted by the North Carolina Historical Commission, (ii) the report and recommendation of the North Carolina Historical Commission has been received and considered by the Department of Natural and Cultural Resources, and (iii) the Department of Natural and Cultural Resources has found that there is a feasible and practical method of providing funds for the acquisition, restoration and/or operation of such property.  (1963, c. 210, s. 3; 1973, c. 476, s. 48; 1985 (Reg. Sess; 1986), c. 1014, s. 171(e); 2006‑203, s. 7; 2015‑241, s. 14.30(s).)'}"
      ]
     },
     "execution_count": 138,
     "metadata": {},
     "output_type": "execute_result"
    }
   ],
   "source": [
    "parse_section(sections[60])"
   ]
  },
  {
   "cell_type": "code",
   "execution_count": 113,
   "id": "bcc396ff-91e7-4093-8621-bf1a52848285",
   "metadata": {},
   "outputs": [],
   "source": []
  },
  {
   "cell_type": "code",
   "execution_count": 118,
   "id": "669912bb-729c-49f8-82c9-8d19a398a944",
   "metadata": {},
   "outputs": [
    {
     "data": {
      "text/plain": [
       "'143B-1'"
      ]
     },
     "execution_count": 118,
     "metadata": {},
     "output_type": "execute_result"
    }
   ],
   "source": []
  },
  {
   "cell_type": "code",
   "execution_count": 124,
   "id": "9efaf32e-8ff4-46ce-847e-ec80e67ad2c0",
   "metadata": {},
   "outputs": [],
   "source": []
  },
  {
   "cell_type": "code",
   "execution_count": 130,
   "id": "abf66811-1dcd-445e-9d33-53f980e42ab8",
   "metadata": {},
   "outputs": [],
   "source": []
  },
  {
   "cell_type": "code",
   "execution_count": 133,
   "id": "fa74c201-4a5b-4602-9746-b9d3dd161f34",
   "metadata": {},
   "outputs": [],
   "source": []
  },
  {
   "cell_type": "code",
   "execution_count": 134,
   "id": "3f73ea36-b639-491d-b32d-567c77edaac8",
   "metadata": {},
   "outputs": [
    {
     "data": {
      "text/plain": [
       "'Article 1.\\nGeneral Provisions.\\n§ 143B‑1. \\xa0Short title.\\nThis Chapter shall be known and may be cited as the \"Executive Organization Act of 1973.\" (1973, c. 476, s. 1.)'"
      ]
     },
     "execution_count": 134,
     "metadata": {},
     "output_type": "execute_result"
    }
   ],
   "source": [
    "page_text"
   ]
  },
  {
   "cell_type": "code",
   "execution_count": 3,
   "id": "33f586ec-1d16-4293-8149-6d17a436783b",
   "metadata": {},
   "outputs": [],
   "source": [
    "r = requests.get(ROOT_URI)\n",
    "soup = BeautifulSoup(r.content, features=\"html.parser\")"
   ]
  },
  {
   "cell_type": "code",
   "execution_count": 56,
   "id": "9ccaf54b-34ee-4fed-bd91-0390e14285e4",
   "metadata": {},
   "outputs": [],
   "source": [
    "r = requests.get(\"https://www.ncleg.gov/Laws/GeneralStatuteSections/Chapter143B\")\n",
    "soup = BeautifulSoup(r.content, features=\"html.parser\")"
   ]
  },
  {
   "cell_type": "code",
   "execution_count": 94,
   "id": "04b01c7a-eb75-44b6-9ef1-017f80c51b89",
   "metadata": {},
   "outputs": [
    {
     "data": {
      "text/plain": [
       "'/EnactedLegislation/Statutes/HTML/BySection/Chapter_143B/GS_143B-1.html'"
      ]
     },
     "execution_count": 94,
     "metadata": {},
     "output_type": "execute_result"
    }
   ],
   "source": [
    "section.get(\"href\")"
   ]
  },
  {
   "cell_type": "code",
   "execution_count": 60,
   "id": "54942146-64c8-46b5-ad88-422111e2bb3a",
   "metadata": {},
   "outputs": [
    {
     "data": {
      "text/plain": [
       "'Executive Organization Act of 1973'"
      ]
     },
     "execution_count": 60,
     "metadata": {},
     "output_type": "execute_result"
    }
   ],
   "source": [
    "\n",
    "chapter_name"
   ]
  },
  {
   "cell_type": "code",
   "execution_count": 61,
   "id": "21dcb2f0-2688-4501-afcb-32f02f3211e5",
   "metadata": {},
   "outputs": [],
   "source": [
    "chapter_number = chapter.split(\"-\")[0]"
   ]
  },
  {
   "cell_type": "code",
   "execution_count": 62,
   "id": "69248344-b1e6-45d7-8d6d-ffe5d6d0e46e",
   "metadata": {},
   "outputs": [
    {
     "data": {
      "text/plain": [
       "'Chapter 143B '"
      ]
     },
     "execution_count": 62,
     "metadata": {},
     "output_type": "execute_result"
    }
   ],
   "source": [
    "chapter_number"
   ]
  },
  {
   "cell_type": "code",
   "execution_count": 66,
   "id": "09cf22da-82e7-4532-ade3-60485aafd7f1",
   "metadata": {},
   "outputs": [
    {
     "data": {
      "text/plain": [
       "('143B', 'Executive Organization Act of 1973')"
      ]
     },
     "execution_count": 66,
     "metadata": {},
     "output_type": "execute_result"
    }
   ],
   "source": []
  },
  {
   "cell_type": "code",
   "execution_count": 68,
   "id": "7a139bbc-efd5-4d97-a0a6-2c0ba811f9c3",
   "metadata": {},
   "outputs": [
    {
     "data": {
      "text/plain": [
       "ParseResult(scheme='https', netloc='www.ncleg.gov', path='/Laws/GeneralStatutesTOC', params='', query='', fragment='')"
      ]
     },
     "execution_count": 68,
     "metadata": {},
     "output_type": "execute_result"
    }
   ],
   "source": [
    "urlparse(ROOT_URI)"
   ]
  },
  {
   "cell_type": "code",
   "execution_count": 71,
   "id": "11376c50-628a-4671-af79-ce05bbf40c5a",
   "metadata": {},
   "outputs": [
    {
     "data": {
      "text/plain": [
       "'https://www.ncleg.gov/Laws/GeneralStatutesTOC'"
      ]
     },
     "execution_count": 71,
     "metadata": {},
     "output_type": "execute_result"
    }
   ],
   "source": []
  },
  {
   "cell_type": "code",
   "execution_count": 72,
   "id": "4e593418-6555-4dfa-b739-dd4558fb48aa",
   "metadata": {},
   "outputs": [],
   "source": []
  },
  {
   "cell_type": "code",
   "execution_count": null,
   "id": "edab7100-f1cb-44c3-8dd0-5f1ae19f41d1",
   "metadata": {},
   "outputs": [],
   "source": []
  }
 ],
 "metadata": {
  "kernelspec": {
   "display_name": "Python 3 (ipykernel)",
   "language": "python",
   "name": "python3"
  },
  "language_info": {
   "codemirror_mode": {
    "name": "ipython",
    "version": 3
   },
   "file_extension": ".py",
   "mimetype": "text/x-python",
   "name": "python",
   "nbconvert_exporter": "python",
   "pygments_lexer": "ipython3",
   "version": "3.11.7"
  }
 },
 "nbformat": 4,
 "nbformat_minor": 5
}
