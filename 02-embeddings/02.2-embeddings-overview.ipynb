{
 "cells": [
  {
   "cell_type": "markdown",
   "id": "d0643709-c41e-4cb7-bc78-e8a699e23485",
   "metadata": {},
   "source": [
    "# Embeddings Overview\n",
    "Last updated: March 17, 2024"
   ]
  },
  {
   "cell_type": "code",
   "execution_count": 5,
   "id": "8c9dfa82-7a40-4609-a038-77f7ab4f67f5",
   "metadata": {},
   "outputs": [],
   "source": [
    "import os\n",
    "\n",
    "import pandas as pd\n",
    "from pgvector.psycopg import register_vector\n",
    "from sqlalchemy import create_engine"
   ]
  },
  {
   "cell_type": "code",
   "execution_count": 6,
   "id": "a91c21c6-8bad-4a09-8d9e-29c71da6fe38",
   "metadata": {},
   "outputs": [],
   "source": [
    "pg_engine = create_engine(os.getenv(\"DATABASE_URL\"))"
   ]
  },
  {
   "cell_type": "code",
   "execution_count": 7,
   "id": "6c661079-4f76-4bac-bf20-3ee76b1f95ad",
   "metadata": {},
   "outputs": [
    {
     "name": "stdout",
     "output_type": "stream",
     "text": [
      "<class 'pandas.core.frame.DataFrame'>\n",
      "RangeIndex: 8112 entries, 0 to 8111\n",
      "Data columns (total 10 columns):\n",
      " #   Column             Non-Null Count  Dtype              \n",
      "---  ------             --------------  -----              \n",
      " 0   statute_id         8112 non-null   int64              \n",
      " 1   created_at         8112 non-null   datetime64[ns, UTC]\n",
      " 2   chapter_number     8112 non-null   object             \n",
      " 3   chapter_name       8112 non-null   object             \n",
      " 4   statute            8112 non-null   object             \n",
      " 5   section_name       8112 non-null   object             \n",
      " 6   url                8112 non-null   object             \n",
      " 7   raw_html           8112 non-null   object             \n",
      " 8   content            8112 non-null   object             \n",
      " 9   content_embedding  0 non-null      object             \n",
      "dtypes: datetime64[ns, UTC](1), int64(1), object(8)\n",
      "memory usage: 633.9+ KB\n"
     ]
    }
   ],
   "source": [
    "df = pd.read_sql(\n",
    "    f\"\"\"\n",
    "    SELECT\n",
    "        *\n",
    "    FROM statutes\n",
    "    \"\"\",\n",
    "    pg_engine\n",
    ")\n",
    "df.info()"
   ]
  },
  {
   "cell_type": "markdown",
   "id": "098583e2-5fc9-439f-ade4-e0db1001c8ab",
   "metadata": {},
   "source": [
    "## What are embeddings?"
   ]
  },
  {
   "cell_type": "code",
   "execution_count": 8,
   "id": "0363adbd-22eb-4ff2-8137-ed6d10406810",
   "metadata": {},
   "outputs": [
    {
     "name": "stdout",
     "output_type": "stream",
     "text": [
      "CPU times: user 2.92 s, sys: 4.53 s, total: 7.45 s\n",
      "Wall time: 3.75 s\n"
     ]
    }
   ],
   "source": [
    "%%time\n",
    "\n",
    "from sentence_transformers import SentenceTransformer\n",
    "model = SentenceTransformer(\"all-mpnet-base-v2\")"
   ]
  },
  {
   "cell_type": "code",
   "execution_count": 9,
   "id": "05147a64-a979-48af-b001-11b318f682b8",
   "metadata": {},
   "outputs": [
    {
     "data": {
      "text/html": [
       "<div>\n",
       "<style scoped>\n",
       "    .dataframe tbody tr th:only-of-type {\n",
       "        vertical-align: middle;\n",
       "    }\n",
       "\n",
       "    .dataframe tbody tr th {\n",
       "        vertical-align: top;\n",
       "    }\n",
       "\n",
       "    .dataframe thead th {\n",
       "        text-align: right;\n",
       "    }\n",
       "</style>\n",
       "<table border=\"1\" class=\"dataframe\">\n",
       "  <thead>\n",
       "    <tr style=\"text-align: right;\">\n",
       "      <th></th>\n",
       "      <th>sentence</th>\n",
       "      <th>embedding</th>\n",
       "    </tr>\n",
       "  </thead>\n",
       "  <tbody>\n",
       "    <tr>\n",
       "      <th>0</th>\n",
       "      <td>This framework generates embeddings for each i...</td>\n",
       "      <td>[0.006416996, 0.007041461, -0.028144179, 0.051...</td>\n",
       "    </tr>\n",
       "    <tr>\n",
       "      <th>1</th>\n",
       "      <td>Sentences are passed as a list of string.</td>\n",
       "      <td>[0.07764478, -0.059052207, -0.039118372, 0.046...</td>\n",
       "    </tr>\n",
       "    <tr>\n",
       "      <th>2</th>\n",
       "      <td>The quick brown fox jumps over the lazy dog.</td>\n",
       "      <td>[-0.034292687, -0.001339469, 0.0043361243, -0....</td>\n",
       "    </tr>\n",
       "  </tbody>\n",
       "</table>\n",
       "</div>"
      ],
      "text/plain": [
       "                                            sentence  \\\n",
       "0  This framework generates embeddings for each i...   \n",
       "1          Sentences are passed as a list of string.   \n",
       "2       The quick brown fox jumps over the lazy dog.   \n",
       "\n",
       "                                           embedding  \n",
       "0  [0.006416996, 0.007041461, -0.028144179, 0.051...  \n",
       "1  [0.07764478, -0.059052207, -0.039118372, 0.046...  \n",
       "2  [-0.034292687, -0.001339469, 0.0043361243, -0....  "
      ]
     },
     "execution_count": 9,
     "metadata": {},
     "output_type": "execute_result"
    }
   ],
   "source": [
    "# Our sentences to encode\n",
    "sentences = [\n",
    "    \"This framework generates embeddings for each input sentence\",\n",
    "    \"Sentences are passed as a list of string.\",\n",
    "    \"The quick brown fox jumps over the lazy dog.\"\n",
    "]\n",
    "\n",
    "# Sentences are encoded by calling model.encode()\n",
    "embeddings = model.encode(sentences)\n",
    "\n",
    "# Print the embeddings\n",
    "both = [(sentence, embedding) for sentence, embedding in zip(sentences, embeddings)]\n",
    "pd.DataFrame.from_records(both, columns=(\"sentence\", \"embedding\"))"
   ]
  },
  {
   "cell_type": "markdown",
   "id": "3a56923a-4dd1-4234-a8c8-cc267152d649",
   "metadata": {},
   "source": [
    "## Statutes: compute embeddings"
   ]
  },
  {
   "cell_type": "code",
   "execution_count": 10,
   "id": "1bdc1c34-78c9-45cb-83c9-b9f7093dbdc4",
   "metadata": {},
   "outputs": [
    {
     "data": {
      "text/plain": [
       "0       Article 1. \\nDefinitions. \\n§ 1‑1.  Remedies.\\...\n",
       "1       § 1‑2.  Actions.\\nAn action is an ordinary pro...\n",
       "2       § 1‑3.  Special proceedings.\\nEvery other reme...\n",
       "3       § 1‑4.  Kinds of actions.\\nActions are of two ...\n",
       "4       § 1‑49.  Seven years.\\nWithin seven years an a...\n",
       "                              ...                        \n",
       "8107    Article 8.\\nTemporary Care and Restraint of In...\n",
       "8108    Article 9.\\nMental Health Council.\\n§§ 35‑61 t...\n",
       "8109    Article 10.\\nInterstate Compact on Mental Heal...\n",
       "8110    Article 11.\\nMedical Advisory Council to State...\n",
       "8111    Article 12.\\nCouncil on Mental Retardation and...\n",
       "Name: content, Length: 8112, dtype: object"
      ]
     },
     "execution_count": 10,
     "metadata": {},
     "output_type": "execute_result"
    }
   ],
   "source": [
    "df[\"content\"]"
   ]
  },
  {
   "cell_type": "code",
   "execution_count": 11,
   "id": "dcfe3a39-1675-4dbe-9f14-af4aec339a27",
   "metadata": {},
   "outputs": [
    {
     "name": "stdout",
     "output_type": "stream",
     "text": [
      "CPU times: user 3min 58s, sys: 4min 44s, total: 8min 43s\n",
      "Wall time: 1min 48s\n"
     ]
    }
   ],
   "source": [
    "%%time\n",
    "\n",
    "embeddings = model.encode(df[\"content\"].tolist())"
   ]
  },
  {
   "cell_type": "code",
   "execution_count": 17,
   "id": "f734da98-bc18-4464-a249-a521a8b7b3a8",
   "metadata": {},
   "outputs": [
    {
     "data": {
      "text/html": [
       "<div>\n",
       "<style scoped>\n",
       "    .dataframe tbody tr th:only-of-type {\n",
       "        vertical-align: middle;\n",
       "    }\n",
       "\n",
       "    .dataframe tbody tr th {\n",
       "        vertical-align: top;\n",
       "    }\n",
       "\n",
       "    .dataframe thead th {\n",
       "        text-align: right;\n",
       "    }\n",
       "</style>\n",
       "<table border=\"1\" class=\"dataframe\">\n",
       "  <thead>\n",
       "    <tr style=\"text-align: right;\">\n",
       "      <th></th>\n",
       "      <th>content_embedding</th>\n",
       "      <th>statute_id</th>\n",
       "    </tr>\n",
       "  </thead>\n",
       "  <tbody>\n",
       "    <tr>\n",
       "      <th>0</th>\n",
       "      <td>[0.04147131368517876, -0.0322742760181427, 0.0...</td>\n",
       "      <td>1</td>\n",
       "    </tr>\n",
       "    <tr>\n",
       "      <th>1</th>\n",
       "      <td>[-0.033325351774692535, -0.06919444352388382, ...</td>\n",
       "      <td>2</td>\n",
       "    </tr>\n",
       "    <tr>\n",
       "      <th>2</th>\n",
       "      <td>[0.02636847086250782, -0.03957170993089676, 0....</td>\n",
       "      <td>3</td>\n",
       "    </tr>\n",
       "    <tr>\n",
       "      <th>3</th>\n",
       "      <td>[-0.02005830779671669, -0.010654936544597149, ...</td>\n",
       "      <td>4</td>\n",
       "    </tr>\n",
       "    <tr>\n",
       "      <th>4</th>\n",
       "      <td>[0.0192421805113554, 0.0806661993265152, 0.054...</td>\n",
       "      <td>63</td>\n",
       "    </tr>\n",
       "    <tr>\n",
       "      <th>...</th>\n",
       "      <td>...</td>\n",
       "      <td>...</td>\n",
       "    </tr>\n",
       "    <tr>\n",
       "      <th>8107</th>\n",
       "      <td>[-0.010719257406890392, 0.0025900101754814386,...</td>\n",
       "      <td>8108</td>\n",
       "    </tr>\n",
       "    <tr>\n",
       "      <th>8108</th>\n",
       "      <td>[0.015394539572298527, -0.02387923374772072, 0...</td>\n",
       "      <td>8109</td>\n",
       "    </tr>\n",
       "    <tr>\n",
       "      <th>8109</th>\n",
       "      <td>[-0.0015342566184699535, 0.036397114396095276,...</td>\n",
       "      <td>8110</td>\n",
       "    </tr>\n",
       "    <tr>\n",
       "      <th>8110</th>\n",
       "      <td>[0.008933783508837223, -0.00815458595752716, 0...</td>\n",
       "      <td>8111</td>\n",
       "    </tr>\n",
       "    <tr>\n",
       "      <th>8111</th>\n",
       "      <td>[-0.008333496749401093, -0.0075187054462730885...</td>\n",
       "      <td>8112</td>\n",
       "    </tr>\n",
       "  </tbody>\n",
       "</table>\n",
       "<p>8112 rows × 2 columns</p>\n",
       "</div>"
      ],
      "text/plain": [
       "                                      content_embedding  statute_id\n",
       "0     [0.04147131368517876, -0.0322742760181427, 0.0...           1\n",
       "1     [-0.033325351774692535, -0.06919444352388382, ...           2\n",
       "2     [0.02636847086250782, -0.03957170993089676, 0....           3\n",
       "3     [-0.02005830779671669, -0.010654936544597149, ...           4\n",
       "4     [0.0192421805113554, 0.0806661993265152, 0.054...          63\n",
       "...                                                 ...         ...\n",
       "8107  [-0.010719257406890392, 0.0025900101754814386,...        8108\n",
       "8108  [0.015394539572298527, -0.02387923374772072, 0...        8109\n",
       "8109  [-0.0015342566184699535, 0.036397114396095276,...        8110\n",
       "8110  [0.008933783508837223, -0.00815458595752716, 0...        8111\n",
       "8111  [-0.008333496749401093, -0.0075187054462730885...        8112\n",
       "\n",
       "[8112 rows x 2 columns]"
      ]
     },
     "execution_count": 17,
     "metadata": {},
     "output_type": "execute_result"
    }
   ],
   "source": [
    "df[\"content_embedding\"] = embeddings.tolist()\n",
    "df[[\"content_embedding\", \"statute_id\"]]"
   ]
  },
  {
   "cell_type": "markdown",
   "id": "cf661771-14c4-4dc6-9414-bc005c280339",
   "metadata": {},
   "source": [
    "## Statutes: update rows with embeddings"
   ]
  },
  {
   "cell_type": "code",
   "execution_count": 22,
   "id": "2ef89ced-76ae-4e69-909f-2f2978cdb705",
   "metadata": {},
   "outputs": [
    {
     "name": "stdout",
     "output_type": "stream",
     "text": [
      "CPU times: user 6.03 s, sys: 70.3 ms, total: 6.1 s\n",
      "Wall time: 6.1 s\n"
     ]
    }
   ],
   "source": [
    "%%time\n",
    "\n",
    "embeddings_and_ids = df[[\"content_embedding\", \"statute_id\"]].itertuples(index=False)\n",
    "\n",
    "with pg_engine.connect() as conn:\n",
    "    # https://docs.sqlalchemy.org/en/20/faq/connections.html#how-do-i-get-at-the-raw-dbapi-connection-when-using-an-engine\n",
    "    register_vector(conn.connection.driver_connection)\n",
    "    with conn.connection.cursor() as cursor:\n",
    "        cursor.executemany(\n",
    "            \"\"\"\n",
    "            UPDATE statutes SET content_embedding = %s WHERE statute_id = %s\n",
    "            \"\"\", \n",
    "            embeddings_and_ids\n",
    "        )\n",
    "    conn.connection.commit()"
   ]
  },
  {
   "cell_type": "code",
   "execution_count": 25,
   "id": "66adf055-25d4-4daf-ae9e-a51aeae27b33",
   "metadata": {},
   "outputs": [],
   "source": [
    "# %%time\n",
    "\n",
    "# embeddings_and_ids = df[[\"content_embedding\", \"statute_id\"]].itertuples(index=False)\n",
    "\n",
    "# with pg_engine.connect() as conn:\n",
    "#     # https://docs.sqlalchemy.org/en/20/faq/connections.html#how-do-i-get-at-the-raw-dbapi-connection-when-using-an-engine\n",
    "#     register_vector(conn.connection.driver_connection)\n",
    "#     with conn.connection.cursor() as cursor:\n",
    "#         for embedding, statue_id in embeddings_and_ids:\n",
    "#             cursor.execute('UPDATE statutes SET content_embedding = %s WHERE statute_id = %s', (embedding, statue_id))\n",
    "#     conn.connection.commit()"
   ]
  },
  {
   "cell_type": "code",
   "execution_count": 29,
   "id": "6f1b2eb2-abf3-4521-ab18-560b46cee283",
   "metadata": {},
   "outputs": [
    {
     "data": {
      "text/html": [
       "<div>\n",
       "<style scoped>\n",
       "    .dataframe tbody tr th:only-of-type {\n",
       "        vertical-align: middle;\n",
       "    }\n",
       "\n",
       "    .dataframe tbody tr th {\n",
       "        vertical-align: top;\n",
       "    }\n",
       "\n",
       "    .dataframe thead th {\n",
       "        text-align: right;\n",
       "    }\n",
       "</style>\n",
       "<table border=\"1\" class=\"dataframe\">\n",
       "  <thead>\n",
       "    <tr style=\"text-align: right;\">\n",
       "      <th></th>\n",
       "      <th>statute</th>\n",
       "      <th>content</th>\n",
       "      <th>content_embedding</th>\n",
       "    </tr>\n",
       "  </thead>\n",
       "  <tbody>\n",
       "    <tr>\n",
       "      <th>0</th>\n",
       "      <td>1-1</td>\n",
       "      <td>Article 1. \\nDefinitions. \\n§ 1‑1.  Remedies.\\...</td>\n",
       "      <td>[0.041471314, -0.032274276, 0.042042375, -0.00...</td>\n",
       "    </tr>\n",
       "    <tr>\n",
       "      <th>1</th>\n",
       "      <td>1-10</td>\n",
       "      <td>§ 1‑10.  Plaintiff and defendant.\\nIn civil ac...</td>\n",
       "      <td>[-0.014724571, -0.04928847, 0.031303033, 0.055...</td>\n",
       "    </tr>\n",
       "    <tr>\n",
       "      <th>2</th>\n",
       "      <td>1-100_through_1-104</td>\n",
       "      <td>§§ 1‑100 through 1‑104.  Repealed by Session L...</td>\n",
       "      <td>[-0.018579958, -0.016739732, 0.032597266, 0.01...</td>\n",
       "    </tr>\n",
       "    <tr>\n",
       "      <th>3</th>\n",
       "      <td>1-105</td>\n",
       "      <td>§ 1‑105.1.  Service on residents who establish...</td>\n",
       "      <td>[-0.023890587, -0.031677235, 0.014264807, 0.00...</td>\n",
       "    </tr>\n",
       "    <tr>\n",
       "      <th>4</th>\n",
       "      <td>1-105</td>\n",
       "      <td>§ 1‑105.  Service upon nonresident drivers of ...</td>\n",
       "      <td>[-0.0056505073, 0.014521363, 0.05465263, 0.038...</td>\n",
       "    </tr>\n",
       "    <tr>\n",
       "      <th>5</th>\n",
       "      <td>1-106_through_1-107</td>\n",
       "      <td>§§ 1‑106 through 1‑107.3.  Repealed by Session...</td>\n",
       "      <td>[-0.013538554, -0.026661754, 0.03608902, 0.027...</td>\n",
       "    </tr>\n",
       "    <tr>\n",
       "      <th>6</th>\n",
       "      <td>1-108</td>\n",
       "      <td>§ 1‑108.  Defense after judgment set aside.\\nI...</td>\n",
       "      <td>[0.03706608, 0.050787423, 0.029943377, 0.05583...</td>\n",
       "    </tr>\n",
       "    <tr>\n",
       "      <th>7</th>\n",
       "      <td>1-109</td>\n",
       "      <td>Article 9.\\nProsecution Bonds.\\n§ 1‑109.  Bond...</td>\n",
       "      <td>[0.04233295, 0.0049180645, 0.04980833, 0.02374...</td>\n",
       "    </tr>\n",
       "    <tr>\n",
       "      <th>8</th>\n",
       "      <td>1-11</td>\n",
       "      <td>§ 1‑11.  How party may appear.\\nA party may ap...</td>\n",
       "      <td>[-0.017318211, -0.0143290665, 0.0007942389, 0....</td>\n",
       "    </tr>\n",
       "    <tr>\n",
       "      <th>9</th>\n",
       "      <td>1-110</td>\n",
       "      <td>§ 1‑110.  Suit as an indigent; counsel; suits ...</td>\n",
       "      <td>[0.017942425, 0.016565232, 0.021090308, 0.0065...</td>\n",
       "    </tr>\n",
       "  </tbody>\n",
       "</table>\n",
       "</div>"
      ],
      "text/plain": [
       "               statute                                            content  \\\n",
       "0                  1-1  Article 1. \\nDefinitions. \\n§ 1‑1.  Remedies.\\...   \n",
       "1                 1-10  § 1‑10.  Plaintiff and defendant.\\nIn civil ac...   \n",
       "2  1-100_through_1-104  §§ 1‑100 through 1‑104.  Repealed by Session L...   \n",
       "3                1-105  § 1‑105.1.  Service on residents who establish...   \n",
       "4                1-105  § 1‑105.  Service upon nonresident drivers of ...   \n",
       "5  1-106_through_1-107  §§ 1‑106 through 1‑107.3.  Repealed by Session...   \n",
       "6                1-108  § 1‑108.  Defense after judgment set aside.\\nI...   \n",
       "7                1-109  Article 9.\\nProsecution Bonds.\\n§ 1‑109.  Bond...   \n",
       "8                 1-11  § 1‑11.  How party may appear.\\nA party may ap...   \n",
       "9                1-110  § 1‑110.  Suit as an indigent; counsel; suits ...   \n",
       "\n",
       "                                   content_embedding  \n",
       "0  [0.041471314, -0.032274276, 0.042042375, -0.00...  \n",
       "1  [-0.014724571, -0.04928847, 0.031303033, 0.055...  \n",
       "2  [-0.018579958, -0.016739732, 0.032597266, 0.01...  \n",
       "3  [-0.023890587, -0.031677235, 0.014264807, 0.00...  \n",
       "4  [-0.0056505073, 0.014521363, 0.05465263, 0.038...  \n",
       "5  [-0.013538554, -0.026661754, 0.03608902, 0.027...  \n",
       "6  [0.03706608, 0.050787423, 0.029943377, 0.05583...  \n",
       "7  [0.04233295, 0.0049180645, 0.04980833, 0.02374...  \n",
       "8  [-0.017318211, -0.0143290665, 0.0007942389, 0....  \n",
       "9  [0.017942425, 0.016565232, 0.021090308, 0.0065...  "
      ]
     },
     "execution_count": 29,
     "metadata": {},
     "output_type": "execute_result"
    }
   ],
   "source": [
    "pd.read_sql(\n",
    "    f\"\"\"\n",
    "    SELECT\n",
    "        statute\n",
    "        , content\n",
    "        , content_embedding\n",
    "    FROM statutes\n",
    "    ORDER BY statute\n",
    "    LIMIT 10\n",
    "    \"\"\",\n",
    "    pg_engine\n",
    ")"
   ]
  }
 ],
 "metadata": {
  "kernelspec": {
   "display_name": "Python 3 (ipykernel)",
   "language": "python",
   "name": "python3"
  },
  "language_info": {
   "codemirror_mode": {
    "name": "ipython",
    "version": 3
   },
   "file_extension": ".py",
   "mimetype": "text/x-python",
   "name": "python",
   "nbconvert_exporter": "python",
   "pygments_lexer": "ipython3",
   "version": "3.11.7"
  }
 },
 "nbformat": 4,
 "nbformat_minor": 5
}
