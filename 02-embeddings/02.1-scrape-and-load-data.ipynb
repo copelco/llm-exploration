{
 "cells": [
  {
   "cell_type": "markdown",
   "id": "9aeec8d0-4f6b-45f5-8de6-13aed13d7c74",
   "metadata": {},
   "source": [
    "# Scrape and load data\n",
    "Last updated: March 16, 2024"
   ]
  },
  {
   "cell_type": "markdown",
   "id": "79b94913-a07b-4492-9a84-0f312cc84bf8",
   "metadata": {},
   "source": [
    "## Scrape the NC General Statues Table of Contents"
   ]
  },
  {
   "cell_type": "code",
   "execution_count": 3,
   "id": "c9f2d577-b256-476f-b7e7-5b7080b1639d",
   "metadata": {},
   "outputs": [],
   "source": [
    "import logging\n",
    "import re\n",
    "import sys\n",
    "from urllib.parse import urljoin\n",
    "from strip_tags import strip_tags\n",
    "from tqdm.notebook import tqdm\n",
    "import redis\n",
    "import requests\n",
    "from bs4 import BeautifulSoup\n",
    "\n",
    "redis_client = redis.Redis(host=\"localhost\", port=63791, db=0, protocol=3)\n",
    "\n",
    "logging.basicConfig(stream=sys.stdout, level=logging.WARNING)\n",
    "\n",
    "STATUTE_RE = re.compile(r\".*GS_([\\d\\w-]+)\")\n",
    "CHAPTER_NUMBER_RE = re.compile(r\"Chapter ([\\d\\w]+)\")\n",
    "SECTION_TITLE_RE = re.compile(r\"([\\w ]+)\\.$\")\n",
    "\n",
    "logger = logging.getLogger(\"scraper\")\n",
    "\n",
    "\n",
    "def fetch_page(path):\n",
    "    content = redis_client.get(path)\n",
    "    if not content:\n",
    "        uri = urljoin(\"https://www.ncleg.gov/\", path)\n",
    "        content = requests.get(uri).content\n",
    "        redis_client.set(path, content)\n",
    "    return BeautifulSoup(content, features=\"html.parser\")\n",
    "\n",
    "\n",
    "def parse_section(section):\n",
    "    page_soup = fetch_page(section.get(\"href\"))\n",
    "    return {\n",
    "        \"raw_html\": str(page_soup),\n",
    "        \"statute\": STATUTE_RE.match(section.get(\"href\")).group(1),\n",
    "        \"content\": strip_tags(str(page_soup), [\"p\"]),\n",
    "    }\n",
    "\n",
    "\n",
    "def scrape_chapter_sections(chapter_page_soup):\n",
    "    chapter = chapter_page_soup.select_one(\"h1.section-title\").text\n",
    "    chapter_name = chapter.split(\"-\")[1].strip().strip(\".\")\n",
    "    chapter_number = CHAPTER_NUMBER_RE.match(chapter.split(\"-\")[0]).group(1)\n",
    "    section_anchors = chapter_page_soup.select(\n",
    "        \"div#chapter div.row a[href*=BySection][href*=HTML]\"\n",
    "    )\n",
    "    sections = []\n",
    "    for section in tqdm(section_anchors, desc=f\"Chapter {chapter_number}\"):\n",
    "        row = section.find_parent(\"div\", class_=\"row\")\n",
    "        title_tag = row.select_one(\"div.row\").select(\"a\")[1]\n",
    "        try:\n",
    "            section_name = SECTION_TITLE_RE.search(title_tag.text).group(1).strip()\n",
    "        except AttributeError:\n",
    "            section_name = \"\"\n",
    "        try:\n",
    "            data = parse_section(section)\n",
    "        except requests.exceptions.ConnectTimeout:\n",
    "            logger.error(section.get(\"href\"))\n",
    "            continue\n",
    "        data[\"chapter_number\"] = chapter_number\n",
    "        data[\"chapter_name\"] = chapter_name\n",
    "        data[\"section_name\"] = section_name\n",
    "        data[\"url\"] = urljoin(\"https://www.ncleg.gov/\", section.get(\"href\"))\n",
    "        sections.append(data)\n",
    "    return sections\n",
    "\n",
    "\n",
    "def scrape_chapters(stop=\"\"):\n",
    "    data = []\n",
    "    soup = fetch_page(\"/Laws/GeneralStatutesTOC\")\n",
    "    chapter_anchors = soup.select(\n",
    "        \"div#gsTOC div.row a[title*=Chapter]:-soup-contains('Chapter')\"\n",
    "    )\n",
    "    for anchor in chapter_anchors:\n",
    "        chapter_page_soup = fetch_page(anchor.get(\"href\"))\n",
    "        sections = scrape_chapter_sections(chapter_page_soup)\n",
    "        data.extend(sections)\n",
    "        if stop and sections[0][\"chapter_number\"] == stop:\n",
    "            break\n",
    "    return data"
   ]
  },
  {
   "cell_type": "code",
   "execution_count": 4,
   "id": "d7599428-4d43-40f5-af5f-37a3e020fe43",
   "metadata": {},
   "outputs": [
    {
     "data": {
      "application/vnd.jupyter.widget-view+json": {
       "model_id": "43c139f6dacd4942bdb8933a501819df",
       "version_major": 2,
       "version_minor": 0
      },
      "text/plain": [
       "Chapter 1:   0%|          | 0/919 [00:00<?, ?it/s]"
      ]
     },
     "metadata": {},
     "output_type": "display_data"
    },
    {
     "data": {
      "application/vnd.jupyter.widget-view+json": {
       "model_id": "b73ff13649b142338967848bd4c2f803",
       "version_major": 2,
       "version_minor": 0
      },
      "text/plain": [
       "Chapter 1A:   0%|          | 0/74 [00:00<?, ?it/s]"
      ]
     },
     "metadata": {},
     "output_type": "display_data"
    },
    {
     "data": {
      "application/vnd.jupyter.widget-view+json": {
       "model_id": "e966cfa1acd34832be0e4df52d0db978",
       "version_major": 2,
       "version_minor": 0
      },
      "text/plain": [
       "Chapter 1B:   0%|          | 0/8 [00:00<?, ?it/s]"
      ]
     },
     "metadata": {},
     "output_type": "display_data"
    },
    {
     "data": {
      "application/vnd.jupyter.widget-view+json": {
       "model_id": "7ed4693dc67d413ab8351bbc028c7ceb",
       "version_major": 2,
       "version_minor": 0
      },
      "text/plain": [
       "Chapter 1C:   0%|          | 0/70 [00:00<?, ?it/s]"
      ]
     },
     "metadata": {},
     "output_type": "display_data"
    },
    {
     "data": {
      "application/vnd.jupyter.widget-view+json": {
       "model_id": "c7ac11b9563840258eba37dd2f008038",
       "version_major": 2,
       "version_minor": 0
      },
      "text/plain": [
       "Chapter 1D:   0%|          | 0/13 [00:00<?, ?it/s]"
      ]
     },
     "metadata": {},
     "output_type": "display_data"
    },
    {
     "data": {
      "application/vnd.jupyter.widget-view+json": {
       "model_id": "47aeff91aabe48718ff7d6ae23af359a",
       "version_major": 2,
       "version_minor": 0
      },
      "text/plain": [
       "Chapter 1E:   0%|          | 0/20 [00:00<?, ?it/s]"
      ]
     },
     "metadata": {},
     "output_type": "display_data"
    },
    {
     "data": {
      "application/vnd.jupyter.widget-view+json": {
       "model_id": "cde735ac580247f293985bc1ecf2d256",
       "version_major": 2,
       "version_minor": 0
      },
      "text/plain": [
       "Chapter 1F:   0%|          | 0/7 [00:00<?, ?it/s]"
      ]
     },
     "metadata": {},
     "output_type": "display_data"
    },
    {
     "data": {
      "application/vnd.jupyter.widget-view+json": {
       "model_id": "09f1ac94c94a4286b89af791a1f4549a",
       "version_major": 2,
       "version_minor": 0
      },
      "text/plain": [
       "Chapter 1G:   0%|          | 0/5 [00:00<?, ?it/s]"
      ]
     },
     "metadata": {},
     "output_type": "display_data"
    },
    {
     "data": {
      "application/vnd.jupyter.widget-view+json": {
       "model_id": "b2b908fc89454ea698cad008fa3a17bb",
       "version_major": 2,
       "version_minor": 0
      },
      "text/plain": [
       "Chapter 2:   0%|          | 0/1 [00:00<?, ?it/s]"
      ]
     },
     "metadata": {},
     "output_type": "display_data"
    },
    {
     "data": {
      "application/vnd.jupyter.widget-view+json": {
       "model_id": "a7fffe44ddfa4027a73431c1f0a0257e",
       "version_major": 2,
       "version_minor": 0
      },
      "text/plain": [
       "Chapter 3:   0%|          | 0/1 [00:00<?, ?it/s]"
      ]
     },
     "metadata": {},
     "output_type": "display_data"
    },
    {
     "data": {
      "application/vnd.jupyter.widget-view+json": {
       "model_id": "f96856e4b88848e4b29065ea56a98e62",
       "version_major": 2,
       "version_minor": 0
      },
      "text/plain": [
       "Chapter 4:   0%|          | 0/1 [00:00<?, ?it/s]"
      ]
     },
     "metadata": {},
     "output_type": "display_data"
    },
    {
     "data": {
      "application/vnd.jupyter.widget-view+json": {
       "model_id": "db8574d683174e4585600d1b742be621",
       "version_major": 2,
       "version_minor": 0
      },
      "text/plain": [
       "Chapter 5:   0%|          | 0/1 [00:00<?, ?it/s]"
      ]
     },
     "metadata": {},
     "output_type": "display_data"
    },
    {
     "data": {
      "application/vnd.jupyter.widget-view+json": {
       "model_id": "bcbdd7d7b3484d2f962a9fc72bac32ca",
       "version_major": 2,
       "version_minor": 0
      },
      "text/plain": [
       "Chapter 5A:   0%|          | 0/34 [00:00<?, ?it/s]"
      ]
     },
     "metadata": {},
     "output_type": "display_data"
    },
    {
     "data": {
      "application/vnd.jupyter.widget-view+json": {
       "model_id": "78e15f69dd9248a0a15b6564216f2605",
       "version_major": 2,
       "version_minor": 0
      },
      "text/plain": [
       "Chapter 6:   0%|          | 0/58 [00:00<?, ?it/s]"
      ]
     },
     "metadata": {},
     "output_type": "display_data"
    },
    {
     "data": {
      "application/vnd.jupyter.widget-view+json": {
       "model_id": "ecedf76c98f84161921b62eeec5b1299",
       "version_major": 2,
       "version_minor": 0
      },
      "text/plain": [
       "Chapter 7:   0%|          | 0/1 [00:00<?, ?it/s]"
      ]
     },
     "metadata": {},
     "output_type": "display_data"
    },
    {
     "data": {
      "application/vnd.jupyter.widget-view+json": {
       "model_id": "134ed17b2f2e4b6fa4d8f8411bdc0939",
       "version_major": 2,
       "version_minor": 0
      },
      "text/plain": [
       "Chapter 7A:   0%|          | 0/721 [00:00<?, ?it/s]"
      ]
     },
     "metadata": {},
     "output_type": "display_data"
    },
    {
     "data": {
      "application/vnd.jupyter.widget-view+json": {
       "model_id": "5025e0016f9145df9bbbac9a3e08ebc1",
       "version_major": 2,
       "version_minor": 0
      },
      "text/plain": [
       "Chapter 7B:   0%|          | 0/608 [00:00<?, ?it/s]"
      ]
     },
     "metadata": {},
     "output_type": "display_data"
    },
    {
     "data": {
      "application/vnd.jupyter.widget-view+json": {
       "model_id": "bd69e4dd3c994f038fdc9fe82526af2c",
       "version_major": 2,
       "version_minor": 0
      },
      "text/plain": [
       "Chapter 8:   0%|          | 0/190 [00:00<?, ?it/s]"
      ]
     },
     "metadata": {},
     "output_type": "display_data"
    },
    {
     "data": {
      "application/vnd.jupyter.widget-view+json": {
       "model_id": "a8697fc4826d432daaaed607002d7e6d",
       "version_major": 2,
       "version_minor": 0
      },
      "text/plain": [
       "Chapter 8A:   0%|          | 0/1 [00:00<?, ?it/s]"
      ]
     },
     "metadata": {},
     "output_type": "display_data"
    },
    {
     "data": {
      "application/vnd.jupyter.widget-view+json": {
       "model_id": "27794bff2a6b4502aff32a541d2a8f42",
       "version_major": 2,
       "version_minor": 0
      },
      "text/plain": [
       "Chapter 8B:   0%|          | 0/10 [00:00<?, ?it/s]"
      ]
     },
     "metadata": {},
     "output_type": "display_data"
    },
    {
     "data": {
      "application/vnd.jupyter.widget-view+json": {
       "model_id": "aa7412f66dad4996a2c79221a74e867a",
       "version_major": 2,
       "version_minor": 0
      },
      "text/plain": [
       "Chapter 8C:   0%|          | 0/67 [00:00<?, ?it/s]"
      ]
     },
     "metadata": {},
     "output_type": "display_data"
    },
    {
     "data": {
      "application/vnd.jupyter.widget-view+json": {
       "model_id": "3d5210b0cb724311a870efec2f6addb5",
       "version_major": 2,
       "version_minor": 0
      },
      "text/plain": [
       "Chapter 9:   0%|          | 0/26 [00:00<?, ?it/s]"
      ]
     },
     "metadata": {},
     "output_type": "display_data"
    },
    {
     "data": {
      "application/vnd.jupyter.widget-view+json": {
       "model_id": "3e6b7ae001b14dcba3136726b867bb46",
       "version_major": 2,
       "version_minor": 0
      },
      "text/plain": [
       "Chapter 10:   0%|          | 0/1 [00:00<?, ?it/s]"
      ]
     },
     "metadata": {},
     "output_type": "display_data"
    },
    {
     "data": {
      "application/vnd.jupyter.widget-view+json": {
       "model_id": "6d6e801a9c6442848aeb6c11d5c10ff8",
       "version_major": 2,
       "version_minor": 0
      },
      "text/plain": [
       "Chapter 10A:   0%|          | 0/17 [00:00<?, ?it/s]"
      ]
     },
     "metadata": {},
     "output_type": "display_data"
    },
    {
     "data": {
      "application/vnd.jupyter.widget-view+json": {
       "model_id": "8886a4b28bfd4a9187b942b549c3fc1b",
       "version_major": 2,
       "version_minor": 0
      },
      "text/plain": [
       "Chapter 10B:   0%|          | 0/175 [00:00<?, ?it/s]"
      ]
     },
     "metadata": {},
     "output_type": "display_data"
    },
    {
     "data": {
      "application/vnd.jupyter.widget-view+json": {
       "model_id": "261e89f84eab4dff88dfbe7e11a76ab5",
       "version_major": 2,
       "version_minor": 0
      },
      "text/plain": [
       "Chapter 11:   0%|          | 0/12 [00:00<?, ?it/s]"
      ]
     },
     "metadata": {},
     "output_type": "display_data"
    },
    {
     "data": {
      "application/vnd.jupyter.widget-view+json": {
       "model_id": "33ea61f9c7574205a7ba62314ccd9020",
       "version_major": 2,
       "version_minor": 0
      },
      "text/plain": [
       "Chapter 12:   0%|          | 0/5 [00:00<?, ?it/s]"
      ]
     },
     "metadata": {},
     "output_type": "display_data"
    },
    {
     "data": {
      "application/vnd.jupyter.widget-view+json": {
       "model_id": "5ae9491e26424dc09760a2b516e60aea",
       "version_major": 2,
       "version_minor": 0
      },
      "text/plain": [
       "Chapter 13:   0%|          | 0/5 [00:00<?, ?it/s]"
      ]
     },
     "metadata": {},
     "output_type": "display_data"
    },
    {
     "data": {
      "application/vnd.jupyter.widget-view+json": {
       "model_id": "dabbcaeac2ed441bb8365db2bb5da49a",
       "version_major": 2,
       "version_minor": 0
      },
      "text/plain": [
       "Chapter 14:   0%|          | 0/1130 [00:00<?, ?it/s]"
      ]
     },
     "metadata": {},
     "output_type": "display_data"
    },
    {
     "data": {
      "application/vnd.jupyter.widget-view+json": {
       "model_id": "19cb0f61d379499cb4145822dbd3eb81",
       "version_major": 2,
       "version_minor": 0
      },
      "text/plain": [
       "Chapter 15:   0%|          | 0/144 [00:00<?, ?it/s]"
      ]
     },
     "metadata": {},
     "output_type": "display_data"
    },
    {
     "data": {
      "application/vnd.jupyter.widget-view+json": {
       "model_id": "613110798e3a4085a0d45a49a4d2f247",
       "version_major": 2,
       "version_minor": 0
      },
      "text/plain": [
       "Chapter 15A:   0%|          | 0/768 [00:00<?, ?it/s]"
      ]
     },
     "metadata": {},
     "output_type": "display_data"
    },
    {
     "data": {
      "application/vnd.jupyter.widget-view+json": {
       "model_id": "628955c697de49aa822a1e523aa3bd97",
       "version_major": 2,
       "version_minor": 0
      },
      "text/plain": [
       "Chapter 15B:   0%|          | 0/38 [00:00<?, ?it/s]"
      ]
     },
     "metadata": {},
     "output_type": "display_data"
    },
    {
     "data": {
      "application/vnd.jupyter.widget-view+json": {
       "model_id": "40b8cb0abc4f41c5b51b195e6e83b961",
       "version_major": 2,
       "version_minor": 0
      },
      "text/plain": [
       "Chapter 15C:   0%|          | 0/13 [00:00<?, ?it/s]"
      ]
     },
     "metadata": {},
     "output_type": "display_data"
    },
    {
     "data": {
      "application/vnd.jupyter.widget-view+json": {
       "model_id": "356ab752fd7c4dec920ca61b488481ec",
       "version_major": 2,
       "version_minor": 0
      },
      "text/plain": [
       "Chapter 16:   0%|          | 0/6 [00:00<?, ?it/s]"
      ]
     },
     "metadata": {},
     "output_type": "display_data"
    },
    {
     "data": {
      "application/vnd.jupyter.widget-view+json": {
       "model_id": "2b148529e6b94f7eaf8c1c8a46d2c49d",
       "version_major": 2,
       "version_minor": 0
      },
      "text/plain": [
       "Chapter 17:   0%|          | 0/45 [00:00<?, ?it/s]"
      ]
     },
     "metadata": {},
     "output_type": "display_data"
    },
    {
     "data": {
      "application/vnd.jupyter.widget-view+json": {
       "model_id": "5275fd31abf34a76a48f76d7c9016096",
       "version_major": 2,
       "version_minor": 0
      },
      "text/plain": [
       "Chapter 17A:   0%|          | 0/1 [00:00<?, ?it/s]"
      ]
     },
     "metadata": {},
     "output_type": "display_data"
    },
    {
     "data": {
      "application/vnd.jupyter.widget-view+json": {
       "model_id": "e28b0a10f49b43929e0e3ce97c9396b1",
       "version_major": 2,
       "version_minor": 0
      },
      "text/plain": [
       "Chapter 17B:   0%|          | 0/1 [00:00<?, ?it/s]"
      ]
     },
     "metadata": {},
     "output_type": "display_data"
    },
    {
     "data": {
      "application/vnd.jupyter.widget-view+json": {
       "model_id": "98d229b0632f4dbda3ba59b90a2b7a35",
       "version_major": 2,
       "version_minor": 0
      },
      "text/plain": [
       "Chapter 17C:   0%|          | 0/24 [00:00<?, ?it/s]"
      ]
     },
     "metadata": {},
     "output_type": "display_data"
    },
    {
     "data": {
      "application/vnd.jupyter.widget-view+json": {
       "model_id": "486facb27fe44984a199e284751f5b54",
       "version_major": 2,
       "version_minor": 0
      },
      "text/plain": [
       "Chapter 17D:   0%|          | 0/4 [00:00<?, ?it/s]"
      ]
     },
     "metadata": {},
     "output_type": "display_data"
    },
    {
     "data": {
      "application/vnd.jupyter.widget-view+json": {
       "model_id": "5645f0b3484042b5a1fe56fa3f623c70",
       "version_major": 2,
       "version_minor": 0
      },
      "text/plain": [
       "Chapter 17E:   0%|          | 0/29 [00:00<?, ?it/s]"
      ]
     },
     "metadata": {},
     "output_type": "display_data"
    },
    {
     "data": {
      "application/vnd.jupyter.widget-view+json": {
       "model_id": "4ae4f59a80994e7d958e4cf1dbe25695",
       "version_major": 2,
       "version_minor": 0
      },
      "text/plain": [
       "Chapter 17F:   0%|          | 0/17 [00:00<?, ?it/s]"
      ]
     },
     "metadata": {},
     "output_type": "display_data"
    },
    {
     "data": {
      "application/vnd.jupyter.widget-view+json": {
       "model_id": "e1909745af0140bf9725cd034e821d05",
       "version_major": 2,
       "version_minor": 0
      },
      "text/plain": [
       "Chapter 18:   0%|          | 0/1 [00:00<?, ?it/s]"
      ]
     },
     "metadata": {},
     "output_type": "display_data"
    },
    {
     "data": {
      "application/vnd.jupyter.widget-view+json": {
       "model_id": "c19a2372daeb42b282024448ff8af1a0",
       "version_major": 2,
       "version_minor": 0
      },
      "text/plain": [
       "Chapter 18A:   0%|          | 0/1 [00:00<?, ?it/s]"
      ]
     },
     "metadata": {},
     "output_type": "display_data"
    },
    {
     "data": {
      "application/vnd.jupyter.widget-view+json": {
       "model_id": "c42d4c3e2ee54890aca30b83d844d555",
       "version_major": 2,
       "version_minor": 0
      },
      "text/plain": [
       "Chapter 18B:   0%|          | 0/189 [00:00<?, ?it/s]"
      ]
     },
     "metadata": {},
     "output_type": "display_data"
    },
    {
     "data": {
      "application/vnd.jupyter.widget-view+json": {
       "model_id": "7e87f48d729d410a9a8bcf64a0d40cfb",
       "version_major": 2,
       "version_minor": 0
      },
      "text/plain": [
       "Chapter 18C:   0%|          | 0/97 [00:00<?, ?it/s]"
      ]
     },
     "metadata": {},
     "output_type": "display_data"
    },
    {
     "data": {
      "application/vnd.jupyter.widget-view+json": {
       "model_id": "e6615099594f48b0af892786dfdda953",
       "version_major": 2,
       "version_minor": 0
      },
      "text/plain": [
       "Chapter 19:   0%|          | 0/36 [00:00<?, ?it/s]"
      ]
     },
     "metadata": {},
     "output_type": "display_data"
    },
    {
     "data": {
      "application/vnd.jupyter.widget-view+json": {
       "model_id": "ff05234374084896b09509aff96a2b2e",
       "version_major": 2,
       "version_minor": 0
      },
      "text/plain": [
       "Chapter 19A:   0%|          | 0/55 [00:00<?, ?it/s]"
      ]
     },
     "metadata": {},
     "output_type": "display_data"
    },
    {
     "data": {
      "application/vnd.jupyter.widget-view+json": {
       "model_id": "fa8997b140394ecab75e3bab24a7cde9",
       "version_major": 2,
       "version_minor": 0
      },
      "text/plain": [
       "Chapter 20:   0%|          | 0/857 [00:00<?, ?it/s]"
      ]
     },
     "metadata": {},
     "output_type": "display_data"
    },
    {
     "data": {
      "application/vnd.jupyter.widget-view+json": {
       "model_id": "4e0d92cbf598401995175bc7707bb6ac",
       "version_major": 2,
       "version_minor": 0
      },
      "text/plain": [
       "Chapter 21:   0%|          | 0/5 [00:00<?, ?it/s]"
      ]
     },
     "metadata": {},
     "output_type": "display_data"
    },
    {
     "data": {
      "application/vnd.jupyter.widget-view+json": {
       "model_id": "bb9fa0e1faee4b6ea63f1e10e76bf490",
       "version_major": 2,
       "version_minor": 0
      },
      "text/plain": [
       "Chapter 22:   0%|          | 0/5 [00:00<?, ?it/s]"
      ]
     },
     "metadata": {},
     "output_type": "display_data"
    },
    {
     "data": {
      "application/vnd.jupyter.widget-view+json": {
       "model_id": "debe3342d64f41b6b24ec6cff189bc9f",
       "version_major": 2,
       "version_minor": 0
      },
      "text/plain": [
       "Chapter 22A:   0%|          | 0/1 [00:00<?, ?it/s]"
      ]
     },
     "metadata": {},
     "output_type": "display_data"
    },
    {
     "data": {
      "application/vnd.jupyter.widget-view+json": {
       "model_id": "10cfc8fd094643c08acadc8c9f68c07a",
       "version_major": 2,
       "version_minor": 0
      },
      "text/plain": [
       "Chapter 22B:   0%|          | 0/20 [00:00<?, ?it/s]"
      ]
     },
     "metadata": {},
     "output_type": "display_data"
    },
    {
     "data": {
      "application/vnd.jupyter.widget-view+json": {
       "model_id": "dde6d1b2a93748faa103e7140b34db30",
       "version_major": 2,
       "version_minor": 0
      },
      "text/plain": [
       "Chapter 22C:   0%|          | 0/6 [00:00<?, ?it/s]"
      ]
     },
     "metadata": {},
     "output_type": "display_data"
    },
    {
     "data": {
      "application/vnd.jupyter.widget-view+json": {
       "model_id": "fc896566b2fb4a2bbd9fbd40a7a0eeca",
       "version_major": 2,
       "version_minor": 0
      },
      "text/plain": [
       "Chapter 23:   0%|          | 0/49 [00:00<?, ?it/s]"
      ]
     },
     "metadata": {},
     "output_type": "display_data"
    },
    {
     "data": {
      "application/vnd.jupyter.widget-view+json": {
       "model_id": "a50e8a5c1405422fa485287cdd8adfc1",
       "version_major": 2,
       "version_minor": 0
      },
      "text/plain": [
       "Chapter 24:   0%|          | 0/41 [00:00<?, ?it/s]"
      ]
     },
     "metadata": {},
     "output_type": "display_data"
    },
    {
     "data": {
      "application/vnd.jupyter.widget-view+json": {
       "model_id": "b53b8bf03f784f649a99275824364a42",
       "version_major": 2,
       "version_minor": 0
      },
      "text/plain": [
       "Chapter 25:   0%|          | 0/639 [00:00<?, ?it/s]"
      ]
     },
     "metadata": {},
     "output_type": "display_data"
    },
    {
     "data": {
      "application/vnd.jupyter.widget-view+json": {
       "model_id": "27fa0707cec34c81bd76c7205b171e2a",
       "version_major": 2,
       "version_minor": 0
      },
      "text/plain": [
       "Chapter 25A:   0%|          | 0/46 [00:00<?, ?it/s]"
      ]
     },
     "metadata": {},
     "output_type": "display_data"
    },
    {
     "data": {
      "application/vnd.jupyter.widget-view+json": {
       "model_id": "3f42991c196c45c78d36311658b65d00",
       "version_major": 2,
       "version_minor": 0
      },
      "text/plain": [
       "Chapter 25B:   0%|          | 0/4 [00:00<?, ?it/s]"
      ]
     },
     "metadata": {},
     "output_type": "display_data"
    },
    {
     "data": {
      "application/vnd.jupyter.widget-view+json": {
       "model_id": "333ffae1194748c5801314d98f90b251",
       "version_major": 2,
       "version_minor": 0
      },
      "text/plain": [
       "Chapter 25C:   0%|          | 0/13 [00:00<?, ?it/s]"
      ]
     },
     "metadata": {},
     "output_type": "display_data"
    },
    {
     "data": {
      "application/vnd.jupyter.widget-view+json": {
       "model_id": "9f0f3b7a6abe4035b1252520d4b956e9",
       "version_major": 2,
       "version_minor": 0
      },
      "text/plain": [
       "Chapter 26:   0%|          | 0/13 [00:00<?, ?it/s]"
      ]
     },
     "metadata": {},
     "output_type": "display_data"
    },
    {
     "data": {
      "application/vnd.jupyter.widget-view+json": {
       "model_id": "c8cfc2e3ec944ac4ba21ecc6f738c07a",
       "version_major": 2,
       "version_minor": 0
      },
      "text/plain": [
       "Chapter 27:   0%|          | 0/10 [00:00<?, ?it/s]"
      ]
     },
     "metadata": {},
     "output_type": "display_data"
    },
    {
     "data": {
      "application/vnd.jupyter.widget-view+json": {
       "model_id": "db11519a727c43d6a9d1c067b32238dd",
       "version_major": 2,
       "version_minor": 0
      },
      "text/plain": [
       "Chapter 28:   0%|          | 0/1 [00:00<?, ?it/s]"
      ]
     },
     "metadata": {},
     "output_type": "display_data"
    },
    {
     "data": {
      "application/vnd.jupyter.widget-view+json": {
       "model_id": "f051ff3b0ddf4fbbab3c6e5fcb784f56",
       "version_major": 2,
       "version_minor": 0
      },
      "text/plain": [
       "Chapter 28A:   0%|          | 0/237 [00:00<?, ?it/s]"
      ]
     },
     "metadata": {},
     "output_type": "display_data"
    },
    {
     "data": {
      "application/vnd.jupyter.widget-view+json": {
       "model_id": "09c0472094404159984b4a33f126ea72",
       "version_major": 2,
       "version_minor": 0
      },
      "text/plain": [
       "Chapter 28B:   0%|          | 0/10 [00:00<?, ?it/s]"
      ]
     },
     "metadata": {},
     "output_type": "display_data"
    },
    {
     "data": {
      "application/vnd.jupyter.widget-view+json": {
       "model_id": "34ed4ca3c5a74e81b3967c70ca8ad823",
       "version_major": 2,
       "version_minor": 0
      },
      "text/plain": [
       "Chapter 28C:   0%|          | 0/22 [00:00<?, ?it/s]"
      ]
     },
     "metadata": {},
     "output_type": "display_data"
    },
    {
     "data": {
      "application/vnd.jupyter.widget-view+json": {
       "model_id": "2b9c1e609ea8497aa8da6e48ba2dbe66",
       "version_major": 2,
       "version_minor": 0
      },
      "text/plain": [
       "Chapter 29:   0%|          | 0/31 [00:00<?, ?it/s]"
      ]
     },
     "metadata": {},
     "output_type": "display_data"
    },
    {
     "data": {
      "application/vnd.jupyter.widget-view+json": {
       "model_id": "5e567531d69f40d386495fff3033bf49",
       "version_major": 2,
       "version_minor": 0
      },
      "text/plain": [
       "Chapter 30:   0%|          | 0/35 [00:00<?, ?it/s]"
      ]
     },
     "metadata": {},
     "output_type": "display_data"
    },
    {
     "data": {
      "application/vnd.jupyter.widget-view+json": {
       "model_id": "4456f7b37bc4487d866c7d452eaa517e",
       "version_major": 2,
       "version_minor": 0
      },
      "text/plain": [
       "Chapter 31:   0%|          | 0/84 [00:00<?, ?it/s]"
      ]
     },
     "metadata": {},
     "output_type": "display_data"
    },
    {
     "data": {
      "application/vnd.jupyter.widget-view+json": {
       "model_id": "2f1d2b23aa424d94ba61b3df9837ef81",
       "version_major": 2,
       "version_minor": 0
      },
      "text/plain": [
       "Chapter 31A:   0%|          | 0/16 [00:00<?, ?it/s]"
      ]
     },
     "metadata": {},
     "output_type": "display_data"
    },
    {
     "data": {
      "application/vnd.jupyter.widget-view+json": {
       "model_id": "9d0b55d7243c496ba2de850c588884ac",
       "version_major": 2,
       "version_minor": 0
      },
      "text/plain": [
       "Chapter 31B:   0%|          | 0/12 [00:00<?, ?it/s]"
      ]
     },
     "metadata": {},
     "output_type": "display_data"
    },
    {
     "data": {
      "application/vnd.jupyter.widget-view+json": {
       "model_id": "1f5d275446c84d51a111342179f30502",
       "version_major": 2,
       "version_minor": 0
      },
      "text/plain": [
       "Chapter 31C:   0%|          | 0/12 [00:00<?, ?it/s]"
      ]
     },
     "metadata": {},
     "output_type": "display_data"
    },
    {
     "data": {
      "application/vnd.jupyter.widget-view+json": {
       "model_id": "85db084e956442128f3e7cad20f59e48",
       "version_major": 2,
       "version_minor": 0
      },
      "text/plain": [
       "Chapter 31D:   0%|          | 0/40 [00:00<?, ?it/s]"
      ]
     },
     "metadata": {},
     "output_type": "display_data"
    },
    {
     "data": {
      "application/vnd.jupyter.widget-view+json": {
       "model_id": "6996ff4e5bdf479780b4b4286af062af",
       "version_major": 2,
       "version_minor": 0
      },
      "text/plain": [
       "Chapter 32:   0%|          | 0/48 [00:00<?, ?it/s]"
      ]
     },
     "metadata": {},
     "output_type": "display_data"
    },
    {
     "data": {
      "application/vnd.jupyter.widget-view+json": {
       "model_id": "c9aeba45be764ad9be87f280a466b6e1",
       "version_major": 2,
       "version_minor": 0
      },
      "text/plain": [
       "Chapter 32A:   0%|          | 0/54 [00:00<?, ?it/s]"
      ]
     },
     "metadata": {},
     "output_type": "display_data"
    },
    {
     "data": {
      "application/vnd.jupyter.widget-view+json": {
       "model_id": "bd5b4b7a73a94992bf78d2a7929aff9b",
       "version_major": 2,
       "version_minor": 0
      },
      "text/plain": [
       "Chapter 32C:   0%|          | 0/48 [00:00<?, ?it/s]"
      ]
     },
     "metadata": {},
     "output_type": "display_data"
    },
    {
     "data": {
      "application/vnd.jupyter.widget-view+json": {
       "model_id": "c2f7a52c9407414381f026c84ac98882",
       "version_major": 2,
       "version_minor": 0
      },
      "text/plain": [
       "Chapter 33:   0%|          | 0/1 [00:00<?, ?it/s]"
      ]
     },
     "metadata": {},
     "output_type": "display_data"
    },
    {
     "data": {
      "application/vnd.jupyter.widget-view+json": {
       "model_id": "623cad2c947f4a18a62b268c624d9d16",
       "version_major": 2,
       "version_minor": 0
      },
      "text/plain": [
       "Chapter 33A:   0%|          | 0/24 [00:00<?, ?it/s]"
      ]
     },
     "metadata": {},
     "output_type": "display_data"
    },
    {
     "data": {
      "application/vnd.jupyter.widget-view+json": {
       "model_id": "3f49e925e5dd46b69e754f6f6426bfb8",
       "version_major": 2,
       "version_minor": 0
      },
      "text/plain": [
       "Chapter 33B:   0%|          | 0/22 [00:00<?, ?it/s]"
      ]
     },
     "metadata": {},
     "output_type": "display_data"
    },
    {
     "data": {
      "application/vnd.jupyter.widget-view+json": {
       "model_id": "f5ec64cf618c48248b0a3af6cc1c180e",
       "version_major": 2,
       "version_minor": 0
      },
      "text/plain": [
       "Chapter 34:   0%|          | 0/20 [00:00<?, ?it/s]"
      ]
     },
     "metadata": {},
     "output_type": "display_data"
    },
    {
     "data": {
      "application/vnd.jupyter.widget-view+json": {
       "model_id": "40c1f36668624d4e9ba9546cd6a022b7",
       "version_major": 2,
       "version_minor": 0
      },
      "text/plain": [
       "Chapter 35:   0%|          | 0/36 [00:00<?, ?it/s]"
      ]
     },
     "metadata": {},
     "output_type": "display_data"
    },
    {
     "name": "stdout",
     "output_type": "stream",
     "text": [
      "CPU times: user 17.7 s, sys: 302 ms, total: 18 s\n",
      "Wall time: 23.1 s\n"
     ]
    }
   ],
   "source": [
    "%%time\n",
    "\n",
    "sections = scrape_chapters(stop=\"35\")"
   ]
  },
  {
   "cell_type": "code",
   "execution_count": 5,
   "id": "8c8ab597-e112-4abf-8ead-5c210bcda170",
   "metadata": {},
   "outputs": [
    {
     "data": {
      "text/plain": [
       "8112"
      ]
     },
     "execution_count": 5,
     "metadata": {},
     "output_type": "execute_result"
    }
   ],
   "source": [
    "len(sections)"
   ]
  },
  {
   "cell_type": "markdown",
   "id": "458d56b6-c21e-4617-8be3-34bf3ee73513",
   "metadata": {},
   "source": [
    "## Load into PostgreSQL database"
   ]
  },
  {
   "cell_type": "code",
   "execution_count": 11,
   "id": "00702b0d-1c58-47c4-af3d-8dc7acf34c37",
   "metadata": {},
   "outputs": [],
   "source": [
    "import os\n",
    "\n",
    "import pandas as pd\n",
    "from sqlalchemy import create_engine, text"
   ]
  },
  {
   "cell_type": "code",
   "execution_count": 10,
   "id": "cc2172a1-298d-4b8c-8c71-f8c2985901ed",
   "metadata": {},
   "outputs": [],
   "source": [
    "pg_engine = create_engine(os.getenv(\"DATABASE_URL\"))\n",
    "pg_conn = pg_engine.connect()"
   ]
  },
  {
   "cell_type": "code",
   "execution_count": 31,
   "id": "a8e5346a-b332-4ab4-be80-f58d0d662bd7",
   "metadata": {},
   "outputs": [],
   "source": [
    "RESET_DB = False\n",
    "\n",
    "if RESET_DB:\n",
    "    with pg_engine.begin() as conn:\n",
    "        conn.execute(text('CREATE EXTENSION IF NOT EXISTS vector'))\n",
    "        cursor = conn.exec_driver_sql(\n",
    "            \"\"\"\n",
    "            DROP TABLE statutes;\n",
    "            CREATE TABLE IF NOT EXISTS statutes (\n",
    "                statute_id         integer PRIMARY KEY GENERATED BY DEFAULT AS IDENTITY,\n",
    "                created_at         timestamp with time zone NOT NULL DEFAULT NOW(),\n",
    "                chapter_number     varchar(64) NOT NULL,\n",
    "                chapter_name       varchar(2048) NOT NULL,\n",
    "                statute            varchar(64) NOT NULL,\n",
    "                section_name       varchar(2048) NOT NULL,\n",
    "                url                varchar(2048) NOT NULL,\n",
    "                raw_html           text NOT NULL,\n",
    "                content            text NOT NULL,\n",
    "                content_embedding  vector(768)\n",
    "            )\n",
    "            \"\"\"\n",
    "        )\n",
    "        conn.commit()"
   ]
  },
  {
   "cell_type": "code",
   "execution_count": 29,
   "id": "681c7b3b-fa93-4cc3-bfa2-ea81bc81a53d",
   "metadata": {
    "scrolled": true
   },
   "outputs": [
    {
     "data": {
      "text/html": [
       "<div>\n",
       "<style scoped>\n",
       "    .dataframe tbody tr th:only-of-type {\n",
       "        vertical-align: middle;\n",
       "    }\n",
       "\n",
       "    .dataframe tbody tr th {\n",
       "        vertical-align: top;\n",
       "    }\n",
       "\n",
       "    .dataframe thead th {\n",
       "        text-align: right;\n",
       "    }\n",
       "</style>\n",
       "<table border=\"1\" class=\"dataframe\">\n",
       "  <thead>\n",
       "    <tr style=\"text-align: right;\">\n",
       "      <th></th>\n",
       "      <th>raw_html</th>\n",
       "      <th>statute</th>\n",
       "      <th>content</th>\n",
       "      <th>chapter_number</th>\n",
       "      <th>chapter_name</th>\n",
       "      <th>section_name</th>\n",
       "      <th>url</th>\n",
       "    </tr>\n",
       "  </thead>\n",
       "  <tbody>\n",
       "    <tr>\n",
       "      <th>0</th>\n",
       "      <td>&lt;!DOCTYPE html PUBLIC \"-//W3C//DTD XHTML 1.0 T...</td>\n",
       "      <td>1-1</td>\n",
       "      <td>Article 1. \\nDefinitions. \\n§ 1‑1.  Remedies.\\...</td>\n",
       "      <td>1</td>\n",
       "      <td>Civil Procedure</td>\n",
       "      <td>Remedies</td>\n",
       "      <td>https://www.ncleg.gov/EnactedLegislation/Statu...</td>\n",
       "    </tr>\n",
       "    <tr>\n",
       "      <th>1</th>\n",
       "      <td>&lt;!DOCTYPE html PUBLIC \"-//W3C//DTD XHTML 1.0 T...</td>\n",
       "      <td>1-2</td>\n",
       "      <td>§ 1‑2.  Actions.\\nAn action is an ordinary pro...</td>\n",
       "      <td>1</td>\n",
       "      <td>Civil Procedure</td>\n",
       "      <td>Actions</td>\n",
       "      <td>https://www.ncleg.gov/EnactedLegislation/Statu...</td>\n",
       "    </tr>\n",
       "    <tr>\n",
       "      <th>2</th>\n",
       "      <td>&lt;!DOCTYPE html PUBLIC \"-//W3C//DTD XHTML 1.0 T...</td>\n",
       "      <td>1-3</td>\n",
       "      <td>§ 1‑3.  Special proceedings.\\nEvery other reme...</td>\n",
       "      <td>1</td>\n",
       "      <td>Civil Procedure</td>\n",
       "      <td>Special proceedings</td>\n",
       "      <td>https://www.ncleg.gov/EnactedLegislation/Statu...</td>\n",
       "    </tr>\n",
       "    <tr>\n",
       "      <th>3</th>\n",
       "      <td>&lt;!DOCTYPE html PUBLIC \"-//W3C//DTD XHTML 1.0 T...</td>\n",
       "      <td>1-4</td>\n",
       "      <td>§ 1‑4.  Kinds of actions.\\nActions are of two ...</td>\n",
       "      <td>1</td>\n",
       "      <td>Civil Procedure</td>\n",
       "      <td>Kinds of actions</td>\n",
       "      <td>https://www.ncleg.gov/EnactedLegislation/Statu...</td>\n",
       "    </tr>\n",
       "    <tr>\n",
       "      <th>4</th>\n",
       "      <td>&lt;!DOCTYPE html PUBLIC \"-//W3C//DTD XHTML 1.0 T...</td>\n",
       "      <td>1-5</td>\n",
       "      <td>§ 1‑5.  Criminal action.\\nA criminal action is...</td>\n",
       "      <td>1</td>\n",
       "      <td>Civil Procedure</td>\n",
       "      <td>Criminal action</td>\n",
       "      <td>https://www.ncleg.gov/EnactedLegislation/Statu...</td>\n",
       "    </tr>\n",
       "    <tr>\n",
       "      <th>...</th>\n",
       "      <td>...</td>\n",
       "      <td>...</td>\n",
       "      <td>...</td>\n",
       "      <td>...</td>\n",
       "      <td>...</td>\n",
       "      <td>...</td>\n",
       "      <td>...</td>\n",
       "    </tr>\n",
       "    <tr>\n",
       "      <th>8107</th>\n",
       "      <td>&lt;!DOCTYPE html PUBLIC \"-//W3C//DTD XHTML 1.0 T...</td>\n",
       "      <td>35-58_through_35-60</td>\n",
       "      <td>Article 8.\\nTemporary Care and Restraint of In...</td>\n",
       "      <td>35</td>\n",
       "      <td>Sterilization Procedures</td>\n",
       "      <td>36</td>\n",
       "      <td>https://www.ncleg.gov/EnactedLegislation/Statu...</td>\n",
       "    </tr>\n",
       "    <tr>\n",
       "      <th>8108</th>\n",
       "      <td>&lt;!DOCTYPE html PUBLIC \"-//W3C//DTD XHTML 1.0 T...</td>\n",
       "      <td>35-61_through_35-63</td>\n",
       "      <td>Article 9.\\nMental Health Council.\\n§§ 35‑61 t...</td>\n",
       "      <td>35</td>\n",
       "      <td>Sterilization Procedures</td>\n",
       "      <td>13</td>\n",
       "      <td>https://www.ncleg.gov/EnactedLegislation/Statu...</td>\n",
       "    </tr>\n",
       "    <tr>\n",
       "      <th>8109</th>\n",
       "      <td>&lt;!DOCTYPE html PUBLIC \"-//W3C//DTD XHTML 1.0 T...</td>\n",
       "      <td>35-64_through_35-69</td>\n",
       "      <td>Article 10.\\nInterstate Compact on Mental Heal...</td>\n",
       "      <td>35</td>\n",
       "      <td>Sterilization Procedures</td>\n",
       "      <td>12</td>\n",
       "      <td>https://www.ncleg.gov/EnactedLegislation/Statu...</td>\n",
       "    </tr>\n",
       "    <tr>\n",
       "      <th>8110</th>\n",
       "      <td>&lt;!DOCTYPE html PUBLIC \"-//W3C//DTD XHTML 1.0 T...</td>\n",
       "      <td>35-70_through_35-72</td>\n",
       "      <td>Article 11.\\nMedical Advisory Council to State...</td>\n",
       "      <td>35</td>\n",
       "      <td>Sterilization Procedures</td>\n",
       "      <td>133</td>\n",
       "      <td>https://www.ncleg.gov/EnactedLegislation/Statu...</td>\n",
       "    </tr>\n",
       "    <tr>\n",
       "      <th>8111</th>\n",
       "      <td>&lt;!DOCTYPE html PUBLIC \"-//W3C//DTD XHTML 1.0 T...</td>\n",
       "      <td>35-73_through_35-77</td>\n",
       "      <td>Article 12.\\nCouncil on Mental Retardation and...</td>\n",
       "      <td>35</td>\n",
       "      <td>Sterilization Procedures</td>\n",
       "      <td>170</td>\n",
       "      <td>https://www.ncleg.gov/EnactedLegislation/Statu...</td>\n",
       "    </tr>\n",
       "  </tbody>\n",
       "</table>\n",
       "<p>8112 rows × 7 columns</p>\n",
       "</div>"
      ],
      "text/plain": [
       "                                               raw_html              statute  \\\n",
       "0     <!DOCTYPE html PUBLIC \"-//W3C//DTD XHTML 1.0 T...                  1-1   \n",
       "1     <!DOCTYPE html PUBLIC \"-//W3C//DTD XHTML 1.0 T...                  1-2   \n",
       "2     <!DOCTYPE html PUBLIC \"-//W3C//DTD XHTML 1.0 T...                  1-3   \n",
       "3     <!DOCTYPE html PUBLIC \"-//W3C//DTD XHTML 1.0 T...                  1-4   \n",
       "4     <!DOCTYPE html PUBLIC \"-//W3C//DTD XHTML 1.0 T...                  1-5   \n",
       "...                                                 ...                  ...   \n",
       "8107  <!DOCTYPE html PUBLIC \"-//W3C//DTD XHTML 1.0 T...  35-58_through_35-60   \n",
       "8108  <!DOCTYPE html PUBLIC \"-//W3C//DTD XHTML 1.0 T...  35-61_through_35-63   \n",
       "8109  <!DOCTYPE html PUBLIC \"-//W3C//DTD XHTML 1.0 T...  35-64_through_35-69   \n",
       "8110  <!DOCTYPE html PUBLIC \"-//W3C//DTD XHTML 1.0 T...  35-70_through_35-72   \n",
       "8111  <!DOCTYPE html PUBLIC \"-//W3C//DTD XHTML 1.0 T...  35-73_through_35-77   \n",
       "\n",
       "                                                content chapter_number  \\\n",
       "0     Article 1. \\nDefinitions. \\n§ 1‑1.  Remedies.\\...              1   \n",
       "1     § 1‑2.  Actions.\\nAn action is an ordinary pro...              1   \n",
       "2     § 1‑3.  Special proceedings.\\nEvery other reme...              1   \n",
       "3     § 1‑4.  Kinds of actions.\\nActions are of two ...              1   \n",
       "4     § 1‑5.  Criminal action.\\nA criminal action is...              1   \n",
       "...                                                 ...            ...   \n",
       "8107  Article 8.\\nTemporary Care and Restraint of In...             35   \n",
       "8108  Article 9.\\nMental Health Council.\\n§§ 35‑61 t...             35   \n",
       "8109  Article 10.\\nInterstate Compact on Mental Heal...             35   \n",
       "8110  Article 11.\\nMedical Advisory Council to State...             35   \n",
       "8111  Article 12.\\nCouncil on Mental Retardation and...             35   \n",
       "\n",
       "                  chapter_name         section_name  \\\n",
       "0              Civil Procedure             Remedies   \n",
       "1              Civil Procedure              Actions   \n",
       "2              Civil Procedure  Special proceedings   \n",
       "3              Civil Procedure     Kinds of actions   \n",
       "4              Civil Procedure      Criminal action   \n",
       "...                        ...                  ...   \n",
       "8107  Sterilization Procedures                   36   \n",
       "8108  Sterilization Procedures                   13   \n",
       "8109  Sterilization Procedures                   12   \n",
       "8110  Sterilization Procedures                  133   \n",
       "8111  Sterilization Procedures                  170   \n",
       "\n",
       "                                                    url  \n",
       "0     https://www.ncleg.gov/EnactedLegislation/Statu...  \n",
       "1     https://www.ncleg.gov/EnactedLegislation/Statu...  \n",
       "2     https://www.ncleg.gov/EnactedLegislation/Statu...  \n",
       "3     https://www.ncleg.gov/EnactedLegislation/Statu...  \n",
       "4     https://www.ncleg.gov/EnactedLegislation/Statu...  \n",
       "...                                                 ...  \n",
       "8107  https://www.ncleg.gov/EnactedLegislation/Statu...  \n",
       "8108  https://www.ncleg.gov/EnactedLegislation/Statu...  \n",
       "8109  https://www.ncleg.gov/EnactedLegislation/Statu...  \n",
       "8110  https://www.ncleg.gov/EnactedLegislation/Statu...  \n",
       "8111  https://www.ncleg.gov/EnactedLegislation/Statu...  \n",
       "\n",
       "[8112 rows x 7 columns]"
      ]
     },
     "execution_count": 29,
     "metadata": {},
     "output_type": "execute_result"
    }
   ],
   "source": [
    "df = pd.DataFrame.from_records(sections)\n",
    "df"
   ]
  },
  {
   "cell_type": "code",
   "execution_count": 30,
   "id": "d0b0cb02-de3c-46ed-aa10-6802e645dd57",
   "metadata": {},
   "outputs": [
    {
     "data": {
      "text/plain": [
       "-1"
      ]
     },
     "execution_count": 30,
     "metadata": {},
     "output_type": "execute_result"
    }
   ],
   "source": [
    "# Save statutes to DB\n",
    "\n",
    "df.to_sql(\n",
    "    \"statutes\",\n",
    "    pg_engine,\n",
    "    if_exists=\"append\",\n",
    "    index=False,\n",
    ")"
   ]
  },
  {
   "cell_type": "code",
   "execution_count": 23,
   "id": "9a62e0b4-4d5f-4173-838d-644d24517a38",
   "metadata": {},
   "outputs": [],
   "source": [
    "# Save statutes to CSV file too\n",
    "\n",
    "df.to_csv(\n",
    "    \"output/statutes.csv\",\n",
    "    index=False,\n",
    ")"
   ]
  },
  {
   "cell_type": "code",
   "execution_count": null,
   "id": "c71b4e91-10b2-4f01-8143-4f82a66369a2",
   "metadata": {},
   "outputs": [],
   "source": []
  }
 ],
 "metadata": {
  "kernelspec": {
   "display_name": "Python 3 (ipykernel)",
   "language": "python",
   "name": "python3"
  },
  "language_info": {
   "codemirror_mode": {
    "name": "ipython",
    "version": 3
   },
   "file_extension": ".py",
   "mimetype": "text/x-python",
   "name": "python",
   "nbconvert_exporter": "python",
   "pygments_lexer": "ipython3",
   "version": "3.11.7"
  }
 },
 "nbformat": 4,
 "nbformat_minor": 5
}
